{
 "cells": [
  {
   "cell_type": "code",
   "execution_count": 1,
   "metadata": {},
   "outputs": [
    {
     "name": "stdout",
     "output_type": "stream",
     "text": [
      "The scikit-learn version is 0.23.2.\n"
     ]
    }
   ],
   "source": [
    "#!/usr/bin/python\n",
    "#import nltk\n",
    "import numpy as np\n",
    "import pandas as pd\n",
    "import spacy\n",
    "import itertools\n",
    "import nltk\n",
    "import torch\n",
    "import time\n",
    "\n",
    "import matplotlib.pyplot as plt\n",
    "import seaborn as sns\n",
    "import re\n",
    "\n",
    "#nltk.download('punkt')\n",
    "from nltk.corpus import stopwords\n",
    "from nltk.tokenize import word_tokenize\n",
    "\n",
    "#Lemmatization\n",
    "#from es_lemmatizer import lemmatize\n",
    "\n",
    "import gensim\n",
    "\n",
    "# Models\n",
    "import torch.optim as optim\n",
    "import torch.nn as nn\n",
    "import torch.nn.functional as F\n",
    "\n",
    "# Métricas\n",
    "from sklearn.metrics import precision_score, f1_score, recall_score\n",
    "from sklearn.metrics import confusion_matrix\n",
    "from sklearn.metrics import classification_report\n",
    "from sklearn.preprocessing import MultiLabelBinarizer\n",
    "import sklearn\n",
    "print('The scikit-learn version is {}.'.format(sklearn.__version__))"
   ]
  },
  {
   "cell_type": "code",
   "execution_count": 2,
   "metadata": {},
   "outputs": [],
   "source": [
    "#import nltk\n",
    "#nltk.download('punkt')"
   ]
  },
  {
   "cell_type": "markdown",
   "metadata": {},
   "source": [
    "### Loading and Analyzing the data"
   ]
  },
  {
   "cell_type": "code",
   "execution_count": 3,
   "metadata": {
    "scrolled": false
   },
   "outputs": [],
   "source": [
    "#dtf = pd.read_csv('sdata/traduccion/muestra_rand_sglobal.csv', encoding = 'cp1252')\n",
    "dtf = pd.read_csv('sdata/datos_balance1.csv', sep=';')"
   ]
  },
  {
   "cell_type": "code",
   "execution_count": 4,
   "metadata": {},
   "outputs": [
    {
     "data": {
      "text/html": [
       "<div>\n",
       "<style scoped>\n",
       "    .dataframe tbody tr th:only-of-type {\n",
       "        vertical-align: middle;\n",
       "    }\n",
       "\n",
       "    .dataframe tbody tr th {\n",
       "        vertical-align: top;\n",
       "    }\n",
       "\n",
       "    .dataframe thead th {\n",
       "        text-align: right;\n",
       "    }\n",
       "</style>\n",
       "<table border=\"1\" class=\"dataframe\">\n",
       "  <thead>\n",
       "    <tr style=\"text-align: right;\">\n",
       "      <th></th>\n",
       "      <th>comentarios</th>\n",
       "      <th>clases</th>\n",
       "    </tr>\n",
       "  </thead>\n",
       "  <tbody>\n",
       "    <tr>\n",
       "      <th>0</th>\n",
       "      <td>viajo mas de lo que debo deberia beber menos</td>\n",
       "      <td>general</td>\n",
       "    </tr>\n",
       "    <tr>\n",
       "      <th>1</th>\n",
       "      <td>es el mejor libro que hay fin</td>\n",
       "      <td>general</td>\n",
       "    </tr>\n",
       "    <tr>\n",
       "      <th>2</th>\n",
       "      <td>te pasas</td>\n",
       "      <td>general</td>\n",
       "    </tr>\n",
       "    <tr>\n",
       "      <th>3</th>\n",
       "      <td>el mismisimo</td>\n",
       "      <td>general</td>\n",
       "    </tr>\n",
       "    <tr>\n",
       "      <th>4</th>\n",
       "      <td>y posiblemente solo a traves de la agonia es p...</td>\n",
       "      <td>general</td>\n",
       "    </tr>\n",
       "  </tbody>\n",
       "</table>\n",
       "</div>"
      ],
      "text/plain": [
       "                                         comentarios   clases\n",
       "0       viajo mas de lo que debo deberia beber menos  general\n",
       "1                      es el mejor libro que hay fin  general\n",
       "2                                           te pasas  general\n",
       "3                                       el mismisimo  general\n",
       "4  y posiblemente solo a traves de la agonia es p...  general"
      ]
     },
     "execution_count": 4,
     "metadata": {},
     "output_type": "execute_result"
    }
   ],
   "source": [
    "dtf.head()"
   ]
  },
  {
   "cell_type": "code",
   "execution_count": 5,
   "metadata": {},
   "outputs": [
    {
     "name": "stdout",
     "output_type": "stream",
     "text": [
      "(5702, 2)\n",
      "Información sobre el conjunto de datos \n",
      "\n",
      "<class 'pandas.core.frame.DataFrame'>\n",
      "RangeIndex: 5702 entries, 0 to 5701\n",
      "Data columns (total 2 columns):\n",
      " #   Column       Non-Null Count  Dtype \n",
      "---  ------       --------------  ----- \n",
      " 0   comentarios  5702 non-null   object\n",
      " 1   clases       5702 non-null   object\n",
      "dtypes: object(2)\n",
      "memory usage: 89.2+ KB\n"
     ]
    }
   ],
   "source": [
    "#df = pd.concat([dt_train, dt_test])\n",
    "#df.shape\n",
    "print(dtf.shape)\n",
    "\n",
    "print(\"Información sobre el conjunto de datos \\n\")\n",
    "dtf.info()"
   ]
  },
  {
   "cell_type": "code",
   "execution_count": 6,
   "metadata": {},
   "outputs": [
    {
     "data": {
      "text/plain": [
       "general        2963\n",
       "denigracion    1826\n",
       "sexual          913\n",
       "Name: clases, dtype: int64"
      ]
     },
     "execution_count": 6,
     "metadata": {},
     "output_type": "execute_result"
    }
   ],
   "source": [
    "dtf['clases'].value_counts()"
   ]
  },
  {
   "cell_type": "code",
   "execution_count": 7,
   "metadata": {
    "scrolled": true
   },
   "outputs": [],
   "source": [
    "#a_dataframe = pd.read_csv(\"sdata/labeled_corpus_6K.txt\",sep=';',header=None)\n",
    "#a_dataframe.columns = [\"a\", \"b\", \"c\", \"etc.\"]\n",
    "#print(a_dataframe)"
   ]
  },
  {
   "cell_type": "code",
   "execution_count": 8,
   "metadata": {
    "scrolled": true
   },
   "outputs": [
    {
     "data": {
      "image/png": "[encoded data removed]",
      "text/plain": [
       "<Figure size 432x432 with 1 Axes>"
      ]
     },
     "metadata": {},
     "output_type": "display_data"
    }
   ],
   "source": [
    "plt.figure(figsize = (6,6))\n",
    "sorted_counts = dtf['clases'].value_counts()\n",
    "plt.pie(sorted_counts, labels = sorted_counts.index, startangle = 90, counterclock = False, wedgeprops = {'width' : 0.6},\n",
    "       autopct='%1.1f%%', pctdistance = 0.7, textprops = {'color': 'black', 'fontsize' : 15}, shadow = True,\n",
    "        colors = sns.color_palette(\"Paired\")[7:])\n",
    "plt.text(x = -0.35, y = 0, s = 'Total Tweets: {}'.format(dtf.shape[0]))\n",
    "plt.title('Distribucion de Tweets en el Conjunto de Datos', fontsize = 15);"
   ]
  },
  {
   "cell_type": "markdown",
   "metadata": {},
   "source": [
    "## PRE-PROCESSING"
   ]
  },
  {
   "cell_type": "code",
   "execution_count": 9,
   "metadata": {},
   "outputs": [],
   "source": [
    "data_dt = dtf.clases\n",
    "dtf_class = data_dt.replace(to_replace='denigracion',value=0,regex=True)\n",
    "dtf_class = dtf_class.replace(to_replace='sexual',value=1,regex=True)\n",
    "dtf_class = dtf_class.replace(to_replace='general',value=2,regex=True)"
   ]
  },
  {
   "cell_type": "code",
   "execution_count": 10,
   "metadata": {},
   "outputs": [],
   "source": [
    "def lemmatization(sentence):\n",
    "    token_words = sp(sentence)\n",
    "    lemma_sentence=[]\n",
    "    for word in token_words:\n",
    "        lemma_sentence.append(word.lemma_)\n",
    "        lemma_sentence.append(\" \")\n",
    "    return \"\".join(lemma_sentence)"
   ]
  },
  {
   "cell_type": "code",
   "execution_count": 11,
   "metadata": {},
   "outputs": [
    {
     "name": "stdout",
     "output_type": "stream",
     "text": [
      "dtf.comentarios  0            viajo mas de lo que debo deberia beber menos\n",
      "1                           es el mejor libro que hay fin\n",
      "2                                                te pasas\n",
      "3                                            el mismisimo\n",
      "4       y posiblemente solo a traves de la agonia es p...\n",
      "                              ...                        \n",
      "5697    @mystyr_e pronto tendremos más información sob...\n",
      "5698                         @srhbutts @ChrisWarcraft LOL\n",
      "5699    @thefeministanon: @mcfartle @freebsdgirl Yo di...\n",
      "5700    @tmclaughbos @mattstratton necesita cambiar el...\n",
      "5701    @iyad_elbaghdadi @Malek_Ason Y qué. ¿Crees que...\n",
      "Name: comentarios, Length: 5702, dtype: object\n"
     ]
    }
   ],
   "source": [
    "#Cleanning Tweets\n",
    "sp = spacy.load(\"es_core_news_sm\")\n",
    "\n",
    "def clean_text(text, remove_stopwords=False):\n",
    "    '''Clean the text, with the option to remove stopwords'''\n",
    "    #Remove @user or http://...\n",
    "    text = re.sub(r\"(@[A-Za-z0-9_]+)|([^0-9A-Za-z \\t])|(\\w+:\\/\\/\\S+)\",\" \",text) \n",
    "    text = text.lower()#.split()\n",
    "\n",
    "    # Optionally, remove stop words\n",
    "    if remove_stopwords:\n",
    "        stops = set(stopwords.words(\"spanish\"))\n",
    "        text = [w for w in text if not w in stops]\n",
    "    #text = \" \".join(text)\n",
    "    \n",
    "    # Clean the text\n",
    "    #text = re.sub(r\"<br />\", \" \", text)\n",
    "    #text = re.sub(r\"[^a-z]\", \" \", text)\n",
    "    text = re.sub(r\"   \", \" \", text)\n",
    "    \n",
    "    #Lematize && itertools Ejmp: looove to love\n",
    "    #text = ''.join(''.join(s)[:2] for _, s in itertools.groupby(text))\n",
    "    text = lemmatization(text)\n",
    "    #print(text)\n",
    "    # Return a list of words\n",
    "    return(text)\n",
    "\n",
    "\n",
    "Xdt_clean = []\n",
    "for sentence in dtf.comentarios:\n",
    "    Xdt_clean.append(clean_text(sentence))\n",
    "\n",
    "print('dtf.comentarios ',dtf.comentarios)"
   ]
  },
  {
   "cell_type": "code",
   "execution_count": 12,
   "metadata": {},
   "outputs": [
    {
     "name": "stdout",
     "output_type": "stream",
     "text": [
      "viajar mas de él que debo deberio beber menos \n",
      "ser el mejor libro que haber fin \n"
     ]
    }
   ],
   "source": [
    "# Check the cleaned comments\n",
    "for i in range(2):\n",
    "    print(Xdt_clean[i])"
   ]
  },
  {
   "cell_type": "code",
   "execution_count": 13,
   "metadata": {},
   "outputs": [],
   "source": [
    "dt_comments = np.array(Xdt_clean)\n",
    "dt_comments = dt_comments.reshape(-1, 1)\n",
    "dt_class = dtf_class.to_numpy() #antes de convertir las clases a valores numericos(0,1,2)\n",
    "dt_class = dt_class.reshape(-1, 1)\n",
    "data_total = np.concatenate((dt_class, dt_comments), axis=1)"
   ]
  },
  {
   "cell_type": "markdown",
   "metadata": {},
   "source": [
    "Total and average number of words in each sentences"
   ]
  },
  {
   "cell_type": "code",
   "execution_count": 14,
   "metadata": {},
   "outputs": [
    {
     "name": "stdout",
     "output_type": "stream",
     "text": [
      "279\n",
      "Average:  76\n"
     ]
    }
   ],
   "source": [
    "def maximum(sent):\n",
    "    numb_words = []\n",
    "    for s in sent:\n",
    "        counter = len(s)\n",
    "        numb_words.append(counter) \n",
    "    max_lengh = int(sum(numb_words)/len(numb_words))\n",
    "    return numb_words,max_lengh\n",
    "numb_words, max_seq_length = maximum(Xdt_clean)\n",
    "print(max(numb_words))\n",
    "#print(numb_words)\n",
    "print(\"Average: \", max_seq_length)"
   ]
  },
  {
   "cell_type": "code",
   "execution_count": 15,
   "metadata": {
    "scrolled": true
   },
   "outputs": [
    {
     "data": {
      "image/png": "[encoded data removed]",
      "text/plain": [
       "<Figure size 504x360 with 1 Axes>"
      ]
     },
     "metadata": {
      "needs_background": "light"
     },
     "output_type": "display_data"
    }
   ],
   "source": [
    "# https://datatofish.com/plot-histogram-python/\n",
    "%matplotlib inline\n",
    "def histograma(numb_words):\n",
    "    plt.figure(figsize=(7,5))\n",
    "    plt.hist(numb_words, 50)\n",
    "    plt.xlabel('Tamaño del tweet (num. palabras)')\n",
    "    plt.ylabel('Frecuencia')\n",
    "    plt.axis([0, 279, 0, 500])\n",
    "    plt.show()\n",
    "histograma(numb_words)"
   ]
  },
  {
   "cell_type": "code",
   "execution_count": 16,
   "metadata": {},
   "outputs": [
    {
     "data": {
      "text/plain": [
       "<AxesSubplot:ylabel='Frequency'>"
      ]
     },
     "execution_count": 16,
     "metadata": {},
     "output_type": "execute_result"
    },
    {
     "data": {
      "image/png": "[encoded data removed]",
      "text/plain": [
       "<Figure size 432x288 with 1 Axes>"
      ]
     },
     "metadata": {
      "needs_background": "light"
     },
     "output_type": "display_data"
    }
   ],
   "source": [
    "# Another way to plot the histogram\n",
    "dtf['len'] = dtf['comentarios'].apply(lambda s : len(s))\n",
    "dtf['len'].plot.hist(bins=50)"
   ]
  },
  {
   "cell_type": "markdown",
   "metadata": {},
   "source": [
    "Load Model Word2Vec - TEST"
   ]
  },
  {
   "cell_type": "code",
   "execution_count": 17,
   "metadata": {
    "scrolled": true
   },
   "outputs": [
    {
     "name": "stdout",
     "output_type": "stream",
     "text": [
      "<gensim.models.keyedvectors.KeyedVectors object at 0x00000234F6592670>\n"
     ]
    },
    {
     "data": {
      "text/plain": [
       "[('cyberbulling', 0.9165787100791931),\n",
       " ('ciberbullyng', 0.9042425155639648),\n",
       " ('ciberbullying', 0.8924957513809204),\n",
       " ('bulling', 0.8801380395889282),\n",
       " ('ciberintimidación', 0.8778801560401917),\n",
       " ('sexting', 0.8767356276512146),\n",
       " ('ciberacoso', 0.8766447305679321),\n",
       " ('bullyng', 0.8754339218139648),\n",
       " ('ciberbulling', 0.870406448841095),\n",
       " ('sextorsión', 0.8630617260932922)]"
      ]
     },
     "execution_count": 17,
     "metadata": {},
     "output_type": "execute_result"
    }
   ],
   "source": [
    "from gensim.test.utils import common_texts\n",
    "from gensim.models import Word2Vec\n",
    "from gensim.models import KeyedVectors\n",
    "\n",
    "def load_model():\n",
    "    path = 'sdata/embeddings/SBW-vectors-300-min5.bin/sbw_vectors.bin'\n",
    "    model_w2v = KeyedVectors.load_word2vec_format(path, binary=True)\n",
    "    return model_w2v\n",
    "model_w2v = load_model()\n",
    "print(model_w2v)\n",
    "model_w2v.most_similar_cosmul(positive=['cyberbullying'])"
   ]
  },
  {
   "cell_type": "code",
   "execution_count": 18,
   "metadata": {},
   "outputs": [
    {
     "data": {
      "text/plain": [
       "[('sexuales', 0.8589749336242676),\n",
       " ('sexualidad', 0.8303288817405701),\n",
       " ('sexualDIGITO', 0.8211199641227722),\n",
       " ('sexualmente', 0.8206302523612976),\n",
       " ('efebofilia', 0.8205440640449524),\n",
       " ('zoofilia', 0.8138418793678284),\n",
       " ('urolagnia', 0.8138273358345032),\n",
       " ('pedofilia', 0.8127351403236389),\n",
       " ('heterosexual', 0.8107986450195312),\n",
       " ('acoso', 0.8093371987342834)]"
      ]
     },
     "execution_count": 18,
     "metadata": {},
     "output_type": "execute_result"
    }
   ],
   "source": [
    "model_w2v.most_similar_cosmul(positive=['sexual'])"
   ]
  },
  {
   "cell_type": "code",
   "execution_count": 19,
   "metadata": {},
   "outputs": [
    {
     "name": "stdout",
     "output_type": "stream",
     "text": [
      "[[-0.07987946  0.03054279  0.05374689 ... -0.34502062 -0.01324861\n",
      "   0.1687351 ]\n",
      " [-0.04961588 -0.00298033  0.1245114  ... -0.5055927   0.11200534\n",
      "   0.24205706]\n",
      " [-0.05537834  0.05522439  0.09109389 ... -0.21629767 -0.05132939\n",
      "   0.08302265]\n",
      " ...\n",
      " [ 0.13320477 -0.11811681 -0.02088205 ... -0.01237406 -0.04629602\n",
      "   0.14850295]\n",
      " [ 0.14926746 -0.19792707 -0.05862761 ... -0.0890796  -0.0288708\n",
      "  -0.03034543]\n",
      " [ 0.0534037  -0.09688863 -0.15942414 ... -0.09518446  0.0197095\n",
      "   0.08318879]]\n"
     ]
    }
   ],
   "source": [
    "print(model_w2v.vectors)"
   ]
  },
  {
   "cell_type": "code",
   "execution_count": 20,
   "metadata": {},
   "outputs": [],
   "source": [
    "#numb_words = 1000\n",
    "class Parameters:\n",
    "    # Preprocessing parameeters\n",
    "    max_features = 120000 # how many unique words to use (i.e num rows in embedding vector)\n",
    "    numb_words_mc = 1200 # number words most common\n",
    "    \n",
    "    # Model CNN parameters\n",
    "    seq_len = 35\n",
    "    embedding_size = max_seq_length #64max_seq_length(or Average) \n",
    "    out_size       = 32\n",
    "    stride         = 2\n",
    "    # used with rnn\n",
    "    conv_size    = (3, 3), #Size of the convolutions.\n",
    "    conv_filters = 100, #Number of convolutions filters.\n",
    "    pool_size    = (2, 2), #Size for the max pooling layer.\n",
    "    pool_drop_rate = 0.4 #Drop rate of the max pooling layer.\n",
    "   \n",
    "    # Model BLSTM parameters\n",
    "    input_size = 58\n",
    "    dimension = 128\n",
    "    #lstm_drop_rate = 0.5, #Drop rate after the lstm layer.\n",
    "    \n",
    "    # Training parameters\n",
    "    epochs: int = 3\n",
    "    batch_size: int = 12\n",
    "    batch_size2: int = 12\n",
    "    learning_rate: float = 0.001\n",
    "        \n",
    "    #embedding, #Numpy array representing the embedding.\n",
    "    em_drop_rate = 0.5, #Drop rate after the embedding layer.   "
   ]
  },
  {
   "cell_type": "markdown",
   "metadata": {},
   "source": [
    "Train y test"
   ]
  },
  {
   "cell_type": "code",
   "execution_count": 21,
   "metadata": {},
   "outputs": [
    {
     "name": "stdout",
     "output_type": "stream",
     "text": [
      "{'comentarios': ['viajo', 'mas', 'de', 'lo', 'que', 'debo', 'deberia', 'beber', 'menos'], 'clases': 'general'}\n",
      "{'comentarios': ['que', 'mierda', 'por', 'esas', 'cosas', 'no', 'quiero', 'hijos'], 'clases': 'denigracion'}\n",
      "{'comentarios': ['mas', 'de', 'mil', 'personas', 'podran', 'acceder', 'a', 'en'], 'clases': 'general'}\n",
      "{'comentarios': ['cerveza', 'gracias', 'quilmes', 'por', 'ponerle', 'una', 'imagen', 'y', 'un', 'escudo', 'a', 'todo', 'eso', 'que', 'un', 'tipo', 'futbolero', 'argentino', 'y', 'de', 'bien', 'debe', 'odiar', 'bover', 'a', 'tu', 'pregunta', 'respondemos', 'anda', 'a', 'la', 'puta', 'que', 'te', 'pario', 'tu', 'y', 'tu', 'cerveza', 'de', 'mierda', 'aguanten', 'las', 'artesanales', 'y', 'las', 'importadas', 'de', 'holanda'], 'clases': 'denigracion'}\n",
      "{'comentarios': ['@ricanroll', '¿', 'crees', 'que', 'tu', 'respuesta', 'es', 'inteligente', '?', 'las', 'mujeres', 'son', 'más', 'de', 'lo', 'que', 'nunca', 'serás', '.', 'eres', 'pequeño', 'y', 'siempre', 'serás', 'pequeño'], 'clases': 'general'}\n",
      "{'comentarios': ['no', 'creas', 'que', 'porque', 'el', 'payaso', 'se', 'rie', 'contigo', 'es', 'vale', 'tuya'], 'clases': 'general'}\n",
      "<generator object Dataset.__getattr__ at 0x000002354C9326D0>\n",
      "<generator object Dataset.__getattr__ at 0x000002354C9326D0>\n"
     ]
    }
   ],
   "source": [
    "from torchtext.legacy import data\n",
    "import torchtext.vocab as vocab\n",
    "from torchtext.vocab import Vectors\n",
    "\n",
    "#vectors = vocab.Vectors(name=model_w2v, cache=model_w2v)\n",
    "\n",
    "COMENTARIOS = data.Field(tokenize='spacy', tokenizer_language='es_core_news_sm', lower=True, include_lengths= True)\n",
    "CLASES = data.LabelField(dtype=torch.float)\n",
    "\n",
    "fields = [('comentarios', COMENTARIOS), ('clases', CLASES)]\n",
    "\n",
    "train_data, validation_data, test_data = data.TabularDataset.splits(\n",
    "    path='sdata',\n",
    "    train='train.csv',\n",
    "    validation='validation.csv',\n",
    "    test='test.csv',\n",
    "    format='csv',\n",
    "    fields=fields\n",
    ")\n",
    "print(vars(train_data[0]))\n",
    "print(vars(train_data[1009]))\n",
    "print(vars(validation_data[0]))\n",
    "print(vars(validation_data[1009]))\n",
    "print(vars(test_data[0]))\n",
    "print(vars(test_data[1009]))\n",
    "print(train_data.comentarios)\n",
    "print(validation_data.comentarios)"
   ]
  },
  {
   "cell_type": "markdown",
   "metadata": {},
   "source": [
    "Build the vocabulary"
   ]
  },
  {
   "cell_type": "code",
   "execution_count": 22,
   "metadata": {},
   "outputs": [
    {
     "name": "stdout",
     "output_type": "stream",
     "text": [
      "<class 'gensim.models.keyedvectors.KeyedVectors'>\n"
     ]
    },
    {
     "data": {
      "text/plain": [
       "[('que', 2870),\n",
       " ('de', 2617),\n",
       " ('la', 1583),\n",
       " ('a', 1481),\n",
       " ('y', 1478),\n",
       " ('no', 1384),\n",
       " ('el', 1291),\n",
       " ('en', 984),\n",
       " ('es', 884),\n",
       " ('me', 808)]"
      ]
     },
     "execution_count": 22,
     "metadata": {},
     "output_type": "execute_result"
    }
   ],
   "source": [
    "path_vec = 'sdata/embeddings/SBW-vectors-300-min5.bin/sbw_vectors.vec'\n",
    "MAX_VOCAB_SIZE = 25000\n",
    "print(type(model_w2v))\n",
    "#print(model_w2v[0])\n",
    "COMENTARIOS.build_vocab(train_data,\n",
    "                 max_size=MAX_VOCAB_SIZE,\n",
    "                 vectors = Vectors(name=path_vec, cache='sdata\\embeddings\\SBW-vectors-300-min5.bin'),\n",
    "                 unk_init = torch.Tensor.normal_)\n",
    "\n",
    "CLASES.build_vocab(train_data)\n",
    "COMENTARIOS.vocab.freqs.most_common(10)"
   ]
  },
  {
   "cell_type": "code",
   "execution_count": 23,
   "metadata": {},
   "outputs": [
    {
     "data": {
      "text/plain": [
       "[('denigracion', 1826), ('general', 1822), ('sexual', 913)]"
      ]
     },
     "execution_count": 23,
     "metadata": {},
     "output_type": "execute_result"
    }
   ],
   "source": [
    "CLASES.vocab.freqs.most_common(3)"
   ]
  },
  {
   "cell_type": "code",
   "execution_count": 24,
   "metadata": {},
   "outputs": [
    {
     "name": "stdout",
     "output_type": "stream",
     "text": [
      "Dataset details: \n",
      "    Number of training examples: 4561\n",
      "    Number of testing examples: 1145\n",
      "    Number of validation examples: 1303\n"
     ]
    }
   ],
   "source": [
    "def print_dataset_details():\n",
    "    print(f'Dataset details: ')\n",
    "    print(f'    Number of training examples: {len(train_data)}')\n",
    "    print(f'    Number of testing examples: {len(test_data)}')\n",
    "    print(f'    Number of validation examples: {len(validation_data)}')\n",
    "print_dataset_details()"
   ]
  },
  {
   "cell_type": "markdown",
   "metadata": {},
   "source": [
    "### Iterator"
   ]
  },
  {
   "cell_type": "code",
   "execution_count": 25,
   "metadata": {
    "scrolled": true
   },
   "outputs": [
    {
     "name": "stdout",
     "output_type": "stream",
     "text": [
      "Using device: cpu\n",
      "\n"
     ]
    }
   ],
   "source": [
    "device = torch.device('cuda' if torch.cuda.is_available() else 'cpu')\n",
    "print('Using device:', device)\n",
    "print()"
   ]
  },
  {
   "cell_type": "code",
   "execution_count": 26,
   "metadata": {},
   "outputs": [
    {
     "name": "stdout",
     "output_type": "stream",
     "text": [
      "<torchtext.legacy.data.iterator.BucketIterator object at 0x00000234B5231BE0>\n",
      "<generator object Dataset.__getattr__ at 0x00000234F6647B30>\n",
      "<generator object Dataset.__getattr__ at 0x00000234F6647B30>\n",
      "<torchtext.legacy.data.dataset.TabularDataset object at 0x00000234F6682520> <torchtext.legacy.data.dataset.TabularDataset object at 0x000002354C8F33A0> <torchtext.legacy.data.dataset.TabularDataset object at 0x000002354C882070>\n"
     ]
    }
   ],
   "source": [
    "BATCH_SIZE = 64\n",
    "train_iterator, valid_iterator, test_iterator = data.BucketIterator.splits(\n",
    "                                                            (train_data, validation_data, test_data), \n",
    "                                                            batch_size = BATCH_SIZE,\n",
    "                                                            sort_key = lambda x: len(x.comentarios),\n",
    "                                                            sort_within_batch = True)\n",
    "print(train_iterator)\n",
    "print(train_data.comentarios)\n",
    "print(validation_data.comentarios)\n",
    "print(train_data, validation_data, test_data)"
   ]
  },
  {
   "cell_type": "markdown",
   "metadata": {},
   "source": [
    "### MODEL"
   ]
  },
  {
   "cell_type": "code",
   "execution_count": 27,
   "metadata": {},
   "outputs": [],
   "source": [
    "import math\n",
    "#from torchtext import data"
   ]
  },
  {
   "cell_type": "markdown",
   "metadata": {},
   "source": [
    "#### CNN"
   ]
  },
  {
   "cell_type": "code",
   "execution_count": 28,
   "metadata": {},
   "outputs": [],
   "source": [
    "DROPOUT = 0.5\n",
    "HIDDEN_DIM = 512\n",
    "FILTER_SIZES = [2, 3, 4]\n",
    "num_epochs = 5\n",
    "\n",
    "lr = 0.001\n",
    "N_FILTERS = 8\n",
    "\n",
    "INPUT_DIM = len(COMENTARIOS.vocab)\n",
    "EMBEDDING_DIM = 300\n",
    "OUTPUT_DIM = 5\n",
    "PAD_IDX = COMENTARIOS.vocab.stoi[COMENTARIOS.pad_token]"
   ]
  },
  {
   "cell_type": "code",
   "execution_count": 29,
   "metadata": {},
   "outputs": [],
   "source": [
    "class CNNText(nn.ModuleList):\n",
    "\n",
    "    def __init__(self, vocab_size, embedding_dim, n_filters, filter_sizes, \n",
    "                 output_dim, dropout, pad_idx):\n",
    "        super().__init__()\n",
    "        \n",
    "        # Dropout definition\n",
    "        self.dropout = nn.Dropout(dropout)\n",
    "        self.pad_idx = pad_idx\n",
    "\n",
    "        # Embedding layer definition\n",
    "        self.embedding = nn.Embedding(vocab_size, embedding_dim)\n",
    "        \n",
    "        # Convolution layers definition\n",
    "        self.convs = nn.ModuleList([\n",
    "                    nn.Conv2d(in_channels=1, out_channels=n_filters, kernel_size=(fs, embedding_dim))\n",
    "                    for fs in filter_sizes\n",
    "        ])\n",
    "        \n",
    "        # Fully connected layer definition\n",
    "        self.fc = nn.Linear(len(filter_sizes) * n_filters, output_dim)\n",
    "                \n",
    "    def forward(self, x):\n",
    "        # Sequence of tokes is filterd through an embedding layer\n",
    "        embedded = self.embedding(x)\n",
    "      \n",
    "        embedded = embedded.unsqueeze(1)\n",
    "        conved = [F.relu(conv(embedded)).squeeze(3) for conv in self.convs]\n",
    "        pooled = [F.max_pool1d(conv, conv.shape[2]).squeeze(2) for conv in conved]\n",
    "        cat = self.dropout(torch.cat(pooled, dim=1))\n",
    "        \n",
    "        # capa completamente conectada self.fc genera información lineal\n",
    "        # y self.relu genera información no lineal\n",
    "        return self.fc(cat)\n",
    "    \n",
    "    def predict_class(self, sentence, nlp, dataset, device, min_len=4):\n",
    "        self.eval()\n",
    "        tokenized = [tok.text for tok in nlp.tokenizer(sentence)]\n",
    "        if len(tokenized) < min_len:\n",
    "            tokenized += ['<pad>'] * (min_len - len(tokenized))\n",
    "        indexed = [dataset.TEXT.vocab.stoi[t] for t in tokenized]\n",
    "        tensor = torch.LongTensor(indexed).to(device)\n",
    "        tensor = tensor.unsqueeze(1)\n",
    "        tensor = tensor.permute(1, 0)\n",
    "        preds = self(tensor)\n",
    "        max_preds = preds.argmax(dim=1)\n",
    "\n",
    "        return max_preds.item()\n",
    "    \n",
    "    @staticmethod\n",
    "    def __count_parameters(model):\n",
    "        return sum(p.numel() for p in model.parameters() if p.requires_grad)"
   ]
  },
  {
   "cell_type": "code",
   "execution_count": 30,
   "metadata": {},
   "outputs": [
    {
     "name": "stdout",
     "output_type": "stream",
     "text": [
      "CNNText(\n",
      "  (dropout): Dropout(p=0.5, inplace=False)\n",
      "  (embedding): Embedding(10717, 300)\n",
      "  (convs): ModuleList(\n",
      "    (0): Conv2d(1, 8, kernel_size=(2, 300), stride=(1, 1))\n",
      "    (1): Conv2d(1, 8, kernel_size=(3, 300), stride=(1, 1))\n",
      "    (2): Conv2d(1, 8, kernel_size=(4, 300), stride=(1, 1))\n",
      "  )\n",
      "  (fc): Linear(in_features=24, out_features=5, bias=True)\n",
      ")\n"
     ]
    }
   ],
   "source": [
    "cnn_model = CNNText(INPUT_DIM, EMBEDDING_DIM, N_FILTERS, FILTER_SIZES, OUTPUT_DIM, DROPOUT, PAD_IDX)\n",
    "print(cnn_model)"
   ]
  },
  {
   "cell_type": "markdown",
   "metadata": {},
   "source": [
    "#### LSTM"
   ]
  },
  {
   "cell_type": "code",
   "execution_count": 31,
   "metadata": {},
   "outputs": [],
   "source": [
    "class LSTM(nn.Module):\n",
    "    def __init__(self, vocab_size, embedding_dim, hidden_dim, output_dim, n_layers, \n",
    "                 bidirectional, dropout, pad_idx):\n",
    "        super().__init__()\n",
    "        self.embedding = nn.Embedding(vocab_size, embedding_dim, padding_idx = pad_idx)\n",
    "        self.encoder = nn.LSTM(embedding_dim, \n",
    "                               hidden_dim, \n",
    "                               num_layers=n_layers,\n",
    "                               bidirectional=bidirectional,\n",
    "                               dropout=dropout)\n",
    "        self.predictor = nn.Linear(hidden_dim*2, output_dim)\n",
    "        self.dropout = nn.Dropout(dropout)\n",
    "      \n",
    "    def forward(self, text, text_lengths):\n",
    "        embedded = self.dropout(self.embedding(text)) \n",
    "        packed_embedded = nn.utils.rnn.pack_padded_sequence(embedded, text_lengths)\n",
    "        \n",
    "        # packed_output -> it is type PackedSequence\n",
    "        # hidden.shape -> torch.Size([2, 64, 256])\n",
    "        # cell.shape -> torch.Size([2, 64, 256])\n",
    "        packed_output, (hidden, cell) = self.encoder(packed_embedded)\n",
    "        output, output_lengths = nn.utils.rnn.pad_packed_sequence(packed_output)\n",
    "        hidden = self.dropout(torch.cat((hidden[-2,:,:], hidden[-1,:,:]), dim = 1))\n",
    "        return self.predictor(hidden)       "
   ]
  },
  {
   "cell_type": "code",
   "execution_count": 32,
   "metadata": {},
   "outputs": [
    {
     "name": "stdout",
     "output_type": "stream",
     "text": [
      "LSTM(\n",
      "  (embedding): Embedding(10717, 300, padding_idx=1)\n",
      "  (encoder): LSTM(300, 256, num_layers=2, dropout=0.5)\n",
      "  (predictor): Linear(in_features=512, out_features=1, bias=True)\n",
      "  (dropout): Dropout(p=0.5, inplace=False)\n",
      ")\n",
      "LSTM(\n",
      "  (embedding): Embedding(10717, 300, padding_idx=1)\n",
      "  (encoder): LSTM(300, 256, num_layers=2, dropout=0.5, bidirectional=True)\n",
      "  (predictor): Linear(in_features=512, out_features=1, bias=True)\n",
      "  (dropout): Dropout(p=0.5, inplace=False)\n",
      ")\n"
     ]
    }
   ],
   "source": [
    "INPUT_DIM = len(COMENTARIOS.vocab)\n",
    "EMBEDDING_DIM = 300\n",
    "HIDDEN_DIM = 256\n",
    "OUTPUT_DIM = 1\n",
    "N_LAYERS = 2\n",
    "DROPOUT = 0.5\n",
    "PAD_IDX = COMENTARIOS.vocab.stoi[COMENTARIOS.pad_token]\n",
    "\n",
    "LSTM_model = LSTM(INPUT_DIM, EMBEDDING_DIM, HIDDEN_DIM,\n",
    "            OUTPUT_DIM, N_LAYERS, False, DROPOUT, PAD_IDX)\n",
    "\n",
    "BiLSTM_model = LSTM(INPUT_DIM, EMBEDDING_DIM, HIDDEN_DIM,\n",
    "            OUTPUT_DIM, N_LAYERS, True, DROPOUT, PAD_IDX)\n",
    "print(LSTM_model)\n",
    "print(BiLSTM_model)"
   ]
  },
  {
   "cell_type": "code",
   "execution_count": 33,
   "metadata": {},
   "outputs": [
    {
     "name": "stdout",
     "output_type": "stream",
     "text": [
      "<class 'torch.Tensor'>\n",
      "Tamaño del vocabulario:  10717\n",
      "Dimensión del embedding:  300\n"
     ]
    }
   ],
   "source": [
    "#Copy the pre-trained word embeddings into the embedding layer\n",
    "pretrained_embeddings = COMENTARIOS.vocab.vectors\n",
    "print(type(pretrained_embeddings))\n",
    "print(\"Tamaño del vocabulario: \", pretrained_embeddings.shape[0])\n",
    "print(\"Dimensión del embedding: \",pretrained_embeddings.shape[1])"
   ]
  },
  {
   "cell_type": "code",
   "execution_count": 34,
   "metadata": {},
   "outputs": [
    {
     "name": "stdout",
     "output_type": "stream",
     "text": [
      "tensor([[ 0.0000,  0.0000,  0.0000,  ...,  0.0000,  0.0000,  0.0000],\n",
      "        [ 0.0000,  0.0000,  0.0000,  ...,  0.0000,  0.0000,  0.0000],\n",
      "        [-0.0053, -0.1249,  0.0189,  ..., -0.0771,  0.0530,  0.0149],\n",
      "        ...,\n",
      "        [ 0.3824, -0.4879,  0.4479,  ...,  0.0504,  0.1615, -0.0548],\n",
      "        [-0.3164,  0.0282, -0.2311,  ..., -0.0762, -0.2492, -0.1990],\n",
      "        [ 0.0000,  0.0000,  0.0000,  ...,  0.0000,  0.0000,  0.0000]])\n",
      "tensor([[ 0.0000,  0.0000,  0.0000,  ...,  0.0000,  0.0000,  0.0000],\n",
      "        [ 0.0000,  0.0000,  0.0000,  ...,  0.0000,  0.0000,  0.0000],\n",
      "        [-0.0053, -0.1249,  0.0189,  ..., -0.0771,  0.0530,  0.0149],\n",
      "        ...,\n",
      "        [ 0.3824, -0.4879,  0.4479,  ...,  0.0504,  0.1615, -0.0548],\n",
      "        [-0.3164,  0.0282, -0.2311,  ..., -0.0762, -0.2492, -0.1990],\n",
      "        [ 0.0000,  0.0000,  0.0000,  ...,  0.0000,  0.0000,  0.0000]])\n"
     ]
    }
   ],
   "source": [
    "#Replace the initial weights of the embedding layer with the pre-trained embeddings\n",
    "print(LSTM_model.embedding.weight.data.copy_(pretrained_embeddings))\n",
    "print(BiLSTM_model.embedding.weight.data.copy_(pretrained_embeddings))"
   ]
  },
  {
   "cell_type": "code",
   "execution_count": 35,
   "metadata": {},
   "outputs": [
    {
     "name": "stdout",
     "output_type": "stream",
     "text": [
      "<torchtext.legacy.data.field.Field object at 0x000002354C886FA0>\n"
     ]
    }
   ],
   "source": [
    "print(COMENTARIOS)"
   ]
  },
  {
   "cell_type": "code",
   "execution_count": 36,
   "metadata": {},
   "outputs": [],
   "source": [
    "UNK_IDX = COMENTARIOS.vocab.stoi[COMENTARIOS.unk_token]"
   ]
  },
  {
   "cell_type": "markdown",
   "metadata": {},
   "source": [
    "Setting row in the embedding weights matrix to zero using the token index"
   ]
  },
  {
   "cell_type": "code",
   "execution_count": 37,
   "metadata": {},
   "outputs": [
    {
     "name": "stdout",
     "output_type": "stream",
     "text": [
      "tensor([[ 0.0000,  0.0000,  0.0000,  ...,  0.0000,  0.0000,  0.0000],\n",
      "        [ 0.0000,  0.0000,  0.0000,  ...,  0.0000,  0.0000,  0.0000],\n",
      "        [-0.0053, -0.1249,  0.0189,  ..., -0.0771,  0.0530,  0.0149],\n",
      "        ...,\n",
      "        [ 0.3824, -0.4879,  0.4479,  ...,  0.0504,  0.1615, -0.0548],\n",
      "        [-0.3164,  0.0282, -0.2311,  ..., -0.0762, -0.2492, -0.1990],\n",
      "        [ 0.0000,  0.0000,  0.0000,  ...,  0.0000,  0.0000,  0.0000]])\n",
      "tensor([[ 0.0000,  0.0000,  0.0000,  ...,  0.0000,  0.0000,  0.0000],\n",
      "        [ 0.0000,  0.0000,  0.0000,  ...,  0.0000,  0.0000,  0.0000],\n",
      "        [-0.0053, -0.1249,  0.0189,  ..., -0.0771,  0.0530,  0.0149],\n",
      "        ...,\n",
      "        [ 0.3824, -0.4879,  0.4479,  ...,  0.0504,  0.1615, -0.0548],\n",
      "        [-0.3164,  0.0282, -0.2311,  ..., -0.0762, -0.2492, -0.1990],\n",
      "        [ 0.0000,  0.0000,  0.0000,  ...,  0.0000,  0.0000,  0.0000]])\n"
     ]
    }
   ],
   "source": [
    "#LSTM\n",
    "LSTM_model.embedding.weight.data[UNK_IDX] = torch.zeros(EMBEDDING_DIM)\n",
    "LSTM_model.embedding.weight.data[PAD_IDX] = torch.zeros(EMBEDDING_DIM)\n",
    "\n",
    "print(LSTM_model.embedding.weight.data)\n",
    "\n",
    "#BiLSTM\n",
    "BiLSTM_model.embedding.weight.data[UNK_IDX] = torch.zeros(EMBEDDING_DIM)\n",
    "BiLSTM_model.embedding.weight.data[PAD_IDX] = torch.zeros(EMBEDDING_DIM)\n",
    "\n",
    "print(BiLSTM_model.embedding.weight.data)"
   ]
  },
  {
   "cell_type": "markdown",
   "metadata": {},
   "source": [
    "### TRAINING"
   ]
  },
  {
   "cell_type": "code",
   "execution_count": 38,
   "metadata": {},
   "outputs": [],
   "source": [
    "optimizer = optim.Adam(LSTM_model.parameters(), lr=2e-2)\n",
    "criterion = nn.BCEWithLogitsLoss()\n",
    "model = LSTM_model.to(device)\n",
    "model2 = BiLSTM_model.to(device)\n",
    "criterion = criterion.to(device)"
   ]
  },
  {
   "cell_type": "code",
   "execution_count": 39,
   "metadata": {},
   "outputs": [],
   "source": [
    "def batch_accuracy(predictions, label):\n",
    "    preds = torch.round(torch.sigmoid(predictions))\n",
    "    correct = (preds == label).float()\n",
    "    accuracy = correct.sum() / len(correct)\n",
    "    return accuracy\n",
    "\n",
    "def timer(start_time, end_time):\n",
    "    time = end_time - start_time\n",
    "    mins = int(time / 60)\n",
    "    secs = int(time - (mins * 60))\n",
    "\n",
    "    return mins, secs"
   ]
  },
  {
   "cell_type": "code",
   "execution_count": 40,
   "metadata": {},
   "outputs": [],
   "source": [
    "from sklearn.metrics import precision_recall_fscore_support as score"
   ]
  },
  {
   "cell_type": "code",
   "execution_count": 41,
   "metadata": {},
   "outputs": [],
   "source": [
    "def train(model, iterator, optimizer, criterion):\n",
    "    values_precision = []\n",
    "    values_recall = []\n",
    "    values_f1 = []\n",
    "    \n",
    "    training_acc = 0.0\n",
    "    training_loss = 0.0\n",
    "    \n",
    "    model.train()\n",
    "    #print('iterator ', iterator)\n",
    "    for batch in iterator:\n",
    "        #print('batch it: ', batch)\n",
    "        optimizer.zero_grad()\n",
    "        text, text_lengths = batch.comentarios\n",
    "        #print('BATCH    ', text, ' ', text_lengths)\n",
    "        predictions = model(text, text_lengths).squeeze(1)\n",
    "        \n",
    "        loss = criterion(predictions, batch.clases)\n",
    "        accuracy = batch_accuracy(predictions, batch.clases)\n",
    "        \n",
    "        #precision = precision_score((batch.clases).detach().numpy(), y_true, labels=[0,1,2], average='micro')\n",
    "        precision = precision_score((batch.clases), predictions>0, labels=[0,1,2], average='micro')\n",
    "        recall = recall_score(batch.clases, predictions>0, labels=[0,1,2], average='micro')\n",
    "        f1 = f1_score((batch.clases), predictions>0, labels=[0,1,2], average='micro')\n",
    "        #precision = precision_score(batch.clases, predictions>0, average=None)\n",
    "        #recall = recall_score(batch.clases, predictions>0, average=None)\n",
    "        #f1 = f1_score(batch.clases, predictions>0, average=None)\n",
    "                \n",
    "        values_precision.append(precision)\n",
    "        values_recall.append(recall)\n",
    "        values_f1.append(f1)\n",
    "        \n",
    "        #print('precision ', precision)\n",
    "        #print('recall ', recall)\n",
    "        #print('f1 ', f1)\n",
    "        \n",
    "        loss.backward()\n",
    "        optimizer.step()\n",
    "        training_acc += accuracy.item()\n",
    "        training_loss += loss.item()\n",
    "        \n",
    "        # Compute confusion matrix\n",
    "        cnf_matrix = confusion_matrix(batch.clases, predictions>0.5)\n",
    "\n",
    "    return training_loss / len(iterator), training_acc / len(iterator), values_precision, values_recall, values_f1, cnf_matrix"
   ]
  },
  {
   "cell_type": "code",
   "execution_count": 42,
   "metadata": {},
   "outputs": [],
   "source": [
    "def evaluate(model, iterator, criterion):\n",
    "    eval_acc = 0.0\n",
    "    eval_loss = 0.0\n",
    "   \n",
    "    model.eval()\n",
    "    with torch.no_grad():\n",
    "        #print('iterator evaluate ', iterator)\n",
    "        for batch in iterator:\n",
    "            #print('batch it: ', batch)\n",
    "            #print('batch.comentarios ', batch.comentarios)\n",
    "            text, text_lengths = batch.comentarios\n",
    "            predictions = model(text, text_lengths).squeeze(1)\n",
    "            loss = criterion(predictions, batch.clases)\n",
    "            accuracy = batch_accuracy(predictions, batch.clases)\n",
    "            \n",
    "            eval_loss += loss.item()\n",
    "            eval_acc += accuracy.item()\n",
    "\n",
    "    return eval_loss / len(iterator), eval_acc / len(iterator)"
   ]
  },
  {
   "cell_type": "code",
   "execution_count": 43,
   "metadata": {},
   "outputs": [],
   "source": [
    "import itertools\n",
    "def plot_confusion_matrix(cm, classes,\n",
    "                          normalize=False,\n",
    "                          title='Confusion matrix',\n",
    "                          cmap=plt.cm.Blues):\n",
    "    \"\"\"\n",
    "    This function prints and plots the confusion matrix.\n",
    "    Normalization can be applied by setting `normalize=True`.\n",
    "    \"\"\"\n",
    "    if normalize:\n",
    "        cm = cm.astype('float') / cm.sum(axis=1)[:, np.newaxis]\n",
    "        print(\"Normalized confusion matrix\")\n",
    "    else:\n",
    "        print('Confusion matrix, without normalization')\n",
    "\n",
    "    print(cm)\n",
    "\n",
    "    plt.imshow(cm, interpolation='nearest', cmap=cmap)\n",
    "    plt.title(title)\n",
    "    plt.colorbar()\n",
    "    tick_marks = np.arange(len(classes))\n",
    "    plt.xticks(tick_marks, classes, rotation=45)\n",
    "    plt.yticks(tick_marks, classes)\n",
    "\n",
    "    fmt = '.2f' if normalize else 'd'\n",
    "    thresh = cm.max() / 2.\n",
    "    for i, j in itertools.product(range(cm.shape[0]), range(cm.shape[1])):\n",
    "        plt.text(j, i, format(cm[i, j], fmt),\n",
    "                 horizontalalignment=\"center\",\n",
    "                 color=\"white\" if cm[i, j] > thresh else \"black\")\n",
    "\n",
    "    plt.ylabel('True label')\n",
    "    plt.xlabel('Predicted label')\n",
    "    plt.tight_layout()"
   ]
  },
  {
   "cell_type": "markdown",
   "metadata": {},
   "source": [
    "### TRAIN LSTM"
   ]
  },
  {
   "cell_type": "code",
   "execution_count": 44,
   "metadata": {},
   "outputs": [
    {
     "name": "stdout",
     "output_type": "stream",
     "text": [
      "Época 1:\n",
      "\t Tiempo Total : 0m 20s\n",
      "\t Pérdida en entrenamiento : 0.28 | Accuracy en entrenamiento: 46.08%\n",
      "\t Pérdida en validación : -1.91 | Accuracy en validación: 62.83%\n",
      "Época 2:\n",
      "\t Tiempo Total : 0m 21s\n",
      "\t Pérdida en entrenamiento : -11.31 | Accuracy en entrenamiento: 63.04%\n",
      "\t Pérdida en validación : -20.36 | Accuracy en validación: 71.79%\n",
      "Época 3:\n",
      "\t Tiempo Total : 0m 26s\n",
      "\t Pérdida en entrenamiento : -42.75 | Accuracy en entrenamiento: 68.55%\n",
      "\t Pérdida en validación : -52.13 | Accuracy en validación: 75.11%\n",
      "Época 4:\n",
      "\t Tiempo Total : 0m 26s\n",
      "\t Pérdida en entrenamiento : -82.79 | Accuracy en entrenamiento: 70.38%\n",
      "\t Pérdida en validación : -83.19 | Accuracy en validación: 71.12%\n",
      "Época 5:\n",
      "\t Tiempo Total : 0m 28s\n",
      "\t Pérdida en entrenamiento : -128.13 | Accuracy en entrenamiento: 70.43%\n",
      "\t Pérdida en validación : -133.58 | Accuracy en validación: 76.22%\n",
      "Época 6:\n",
      "\t Tiempo Total : 0m 30s\n",
      "\t Pérdida en entrenamiento : -180.09 | Accuracy en entrenamiento: 70.18%\n",
      "\t Pérdida en validación : -174.55 | Accuracy en validación: 59.92%\n",
      "Época 7:\n",
      "\t Tiempo Total : 0m 40s\n",
      "\t Pérdida en entrenamiento : -238.66 | Accuracy en entrenamiento: 69.65%\n",
      "\t Pérdida en validación : -228.21 | Accuracy en validación: 75.4%\n",
      "Época 8:\n",
      "\t Tiempo Total : 0m 31s\n",
      "\t Pérdida en entrenamiento : -301.33 | Accuracy en entrenamiento: 70.96%\n",
      "\t Pérdida en validación : -280.81 | Accuracy en validación: 75.48%\n",
      "Época 9:\n",
      "\t Tiempo Total : 0m 26s\n",
      "\t Pérdida en entrenamiento : -360.66 | Accuracy en entrenamiento: 71.26%\n",
      "\t Pérdida en validación : -327.06 | Accuracy en validación: 76.0%\n",
      "Época 10:\n",
      "\t Tiempo Total : 0m 26s\n",
      "\t Pérdida en entrenamiento : -422.5 | Accuracy en entrenamiento: 71.49%\n",
      "\t Pérdida en validación : -381.93 | Accuracy en validación: 76.3%\n",
      "Época 11:\n",
      "\t Tiempo Total : 0m 25s\n",
      "\t Pérdida en entrenamiento : -479.57 | Accuracy en entrenamiento: 71.52%\n",
      "\t Pérdida en validación : -430.18 | Accuracy en validación: 76.09%\n",
      "Época 12:\n",
      "\t Tiempo Total : 0m 25s\n",
      "\t Pérdida en entrenamiento : -538.93 | Accuracy en entrenamiento: 72.36%\n",
      "\t Pérdida en validación : -480.03 | Accuracy en validación: 76.3%\n",
      "Época 13:\n",
      "\t Tiempo Total : 0m 26s\n",
      "\t Pérdida en entrenamiento : -608.73 | Accuracy en entrenamiento: 71.42%\n",
      "\t Pérdida en validación : -537.23 | Accuracy en validación: 76.54%\n",
      "Época 14:\n",
      "\t Tiempo Total : 0m 25s\n",
      "\t Pérdida en entrenamiento : -680.71 | Accuracy en entrenamiento: 72.49%\n",
      "\t Pérdida en validación : -595.76 | Accuracy en validación: 76.89%\n",
      "Época 15:\n",
      "\t Tiempo Total : 0m 25s\n",
      "\t Pérdida en entrenamiento : -747.29 | Accuracy en entrenamiento: 72.38%\n",
      "\t Pérdida en validación : -655.98 | Accuracy en validación: 76.91%\n",
      "Época 16:\n",
      "\t Tiempo Total : 0m 25s\n",
      "\t Pérdida en entrenamiento : -823.32 | Accuracy en entrenamiento: 71.61%\n",
      "\t Pérdida en validación : -720.95 | Accuracy en validación: 77.5%\n",
      "Época 17:\n",
      "\t Tiempo Total : 0m 26s\n",
      "\t Pérdida en entrenamiento : -889.95 | Accuracy en entrenamiento: 72.15%\n",
      "\t Pérdida en validación : -773.74 | Accuracy en validación: 77.49%\n",
      "Época 18:\n",
      "\t Tiempo Total : 0m 26s\n",
      "\t Pérdida en entrenamiento : -951.32 | Accuracy en entrenamiento: 71.58%\n",
      "\t Pérdida en validación : -830.88 | Accuracy en validación: 76.7%\n",
      "Época 19:\n",
      "\t Tiempo Total : 0m 24s\n",
      "\t Pérdida en entrenamiento : -1025.98 | Accuracy en entrenamiento: 72.38%\n",
      "\t Pérdida en validación : -892.69 | Accuracy en validación: 76.89%\n",
      "Época 20:\n",
      "\t Tiempo Total : 0m 24s\n",
      "\t Pérdida en entrenamiento : -1090.13 | Accuracy en entrenamiento: 72.43%\n",
      "\t Pérdida en validación : -951.3 | Accuracy en validación: 76.45%\n",
      "Época 21:\n",
      "\t Tiempo Total : 0m 24s\n",
      "\t Pérdida en entrenamiento : -1151.78 | Accuracy en entrenamiento: 71.4%\n",
      "\t Pérdida en validación : -1005.22 | Accuracy en validación: 75.33%\n",
      "Época 22:\n",
      "\t Tiempo Total : 0m 24s\n",
      "\t Pérdida en entrenamiento : -1227.68 | Accuracy en entrenamiento: 71.78%\n",
      "\t Pérdida en validación : -1075.12 | Accuracy en validación: 77.04%\n",
      "Época 23:\n",
      "\t Tiempo Total : 0m 24s\n",
      "\t Pérdida en entrenamiento : -1290.08 | Accuracy en entrenamiento: 72.88%\n",
      "\t Pérdida en validación : -1119.24 | Accuracy en validación: 76.74%\n",
      "Época 24:\n",
      "\t Tiempo Total : 0m 24s\n",
      "\t Pérdida en entrenamiento : -1358.54 | Accuracy en entrenamiento: 72.3%\n",
      "\t Pérdida en validación : -1174.46 | Accuracy en validación: 75.35%\n",
      "Época 25:\n",
      "\t Tiempo Total : 0m 28s\n",
      "\t Pérdida en entrenamiento : -1421.85 | Accuracy en entrenamiento: 71.72%\n",
      "\t Pérdida en validación : -1220.67 | Accuracy en validación: 75.64%\n",
      "Época 26:\n",
      "\t Tiempo Total : 0m 25s\n",
      "\t Pérdida en entrenamiento : -1460.11 | Accuracy en entrenamiento: 71.89%\n",
      "\t Pérdida en validación : -1254.18 | Accuracy en validación: 74.14%\n",
      "Época 27:\n",
      "\t Tiempo Total : 0m 26s\n",
      "\t Pérdida en entrenamiento : -1511.71 | Accuracy en entrenamiento: 71.25%\n",
      "\t Pérdida en validación : -1331.47 | Accuracy en validación: 76.0%\n",
      "Época 28:\n",
      "\t Tiempo Total : 0m 25s\n",
      "\t Pérdida en entrenamiento : -1576.49 | Accuracy en entrenamiento: 71.19%\n",
      "\t Pérdida en validación : -1388.43 | Accuracy en validación: 75.55%\n",
      "Época 29:\n",
      "\t Tiempo Total : 0m 26s\n",
      "\t Pérdida en entrenamiento : -1631.62 | Accuracy en entrenamiento: 71.54%\n",
      "\t Pérdida en validación : -1428.45 | Accuracy en validación: 75.61%\n",
      "Época 30:\n",
      "\t Tiempo Total : 0m 24s\n",
      "\t Pérdida en entrenamiento : -1672.64 | Accuracy en entrenamiento: 71.82%\n",
      "\t Pérdida en validación : -1479.96 | Accuracy en validación: 74.59%\n",
      "Época 31:\n",
      "\t Tiempo Total : 0m 25s\n",
      "\t Pérdida en entrenamiento : -1731.03 | Accuracy en entrenamiento: 71.72%\n",
      "\t Pérdida en validación : -1515.9 | Accuracy en validación: 74.3%\n",
      "Época 32:\n",
      "\t Tiempo Total : 0m 25s\n",
      "\t Pérdida en entrenamiento : -1766.51 | Accuracy en entrenamiento: 70.74%\n",
      "\t Pérdida en validación : -1563.41 | Accuracy en validación: 73.87%\n",
      "Época 33:\n",
      "\t Tiempo Total : 0m 24s\n",
      "\t Pérdida en entrenamiento : -1815.27 | Accuracy en entrenamiento: 70.3%\n",
      "\t Pérdida en validación : -1584.56 | Accuracy en validación: 72.82%\n",
      "Época 34:\n",
      "\t Tiempo Total : 0m 26s\n",
      "\t Pérdida en entrenamiento : -1873.74 | Accuracy en entrenamiento: 69.86%\n",
      "\t Pérdida en validación : -1659.37 | Accuracy en validación: 73.08%\n",
      "Época 35:\n",
      "\t Tiempo Total : 0m 27s\n",
      "\t Pérdida en entrenamiento : -1921.02 | Accuracy en entrenamiento: 70.32%\n",
      "\t Pérdida en validación : -1701.3 | Accuracy en validación: 74.07%\n",
      "Época 36:\n",
      "\t Tiempo Total : 0m 27s\n",
      "\t Pérdida en entrenamiento : -1997.02 | Accuracy en entrenamiento: 70.78%\n",
      "\t Pérdida en validación : -1746.67 | Accuracy en validación: 72.8%\n",
      "Época 37:\n",
      "\t Tiempo Total : 0m 25s\n",
      "\t Pérdida en entrenamiento : -2055.62 | Accuracy en entrenamiento: 70.37%\n",
      "\t Pérdida en validación : -1815.47 | Accuracy en validación: 73.56%\n",
      "Época 38:\n",
      "\t Tiempo Total : 0m 24s\n",
      "\t Pérdida en entrenamiento : -2093.41 | Accuracy en entrenamiento: 70.41%\n",
      "\t Pérdida en validación : -1837.32 | Accuracy en validación: 73.9%\n",
      "Época 39:\n",
      "\t Tiempo Total : 0m 24s\n",
      "\t Pérdida en entrenamiento : -2108.11 | Accuracy en entrenamiento: 70.33%\n",
      "\t Pérdida en validación : -1873.08 | Accuracy en validación: 73.83%\n",
      "Época 40:\n",
      "\t Tiempo Total : 0m 26s\n",
      "\t Pérdida en entrenamiento : -2110.75 | Accuracy en entrenamiento: 70.11%\n",
      "\t Pérdida en validación : -1893.59 | Accuracy en validación: 72.65%\n",
      "Época 41:\n",
      "\t Tiempo Total : 0m 25s\n",
      "\t Pérdida en entrenamiento : -2168.08 | Accuracy en entrenamiento: 70.49%\n",
      "\t Pérdida en validación : -1944.77 | Accuracy en validación: 72.41%\n",
      "Época 42:\n",
      "\t Tiempo Total : 0m 26s\n",
      "\t Pérdida en entrenamiento : -2211.65 | Accuracy en entrenamiento: 69.8%\n",
      "\t Pérdida en validación : -1944.84 | Accuracy en validación: 70.14%\n",
      "Época 43:\n",
      "\t Tiempo Total : 0m 25s\n",
      "\t Pérdida en entrenamiento : -2266.66 | Accuracy en entrenamiento: 69.63%\n",
      "\t Pérdida en validación : -2015.88 | Accuracy en validación: 71.48%\n",
      "Época 44:\n",
      "\t Tiempo Total : 0m 25s\n",
      "\t Pérdida en entrenamiento : -2300.07 | Accuracy en entrenamiento: 69.29%\n",
      "\t Pérdida en validación : -2035.53 | Accuracy en validación: 69.75%\n",
      "Época 45:\n",
      "\t Tiempo Total : 0m 25s\n",
      "\t Pérdida en entrenamiento : -2277.29 | Accuracy en entrenamiento: 65.9%\n",
      "\t Pérdida en validación : -2016.02 | Accuracy en validación: 67.05%\n",
      "Época 46:\n",
      "\t Tiempo Total : 0m 25s\n",
      "\t Pérdida en entrenamiento : -2237.67 | Accuracy en entrenamiento: 67.05%\n",
      "\t Pérdida en validación : -2050.9 | Accuracy en validación: 69.14%\n",
      "Época 47:\n",
      "\t Tiempo Total : 0m 27s\n",
      "\t Pérdida en entrenamiento : -2223.96 | Accuracy en entrenamiento: 67.13%\n",
      "\t Pérdida en validación : -1970.28 | Accuracy en validación: 65.21%\n"
     ]
    },
    {
     "name": "stdout",
     "output_type": "stream",
     "text": [
      "Época 48:\n",
      "\t Tiempo Total : 0m 26s\n",
      "\t Pérdida en entrenamiento : -2040.62 | Accuracy en entrenamiento: 64.25%\n",
      "\t Pérdida en validación : -1789.8 | Accuracy en validación: 63.81%\n",
      "Época 49:\n",
      "\t Tiempo Total : 0m 25s\n",
      "\t Pérdida en entrenamiento : -1743.2 | Accuracy en entrenamiento: 64.94%\n",
      "\t Pérdida en validación : -1599.98 | Accuracy en validación: 64.91%\n",
      "Época 50:\n",
      "\t Tiempo Total : 0m 26s\n",
      "\t Pérdida en entrenamiento : -1531.42 | Accuracy en entrenamiento: 63.49%\n",
      "\t Pérdida en validación : -1575.12 | Accuracy en validación: 66.77%\n",
      "Época 51:\n",
      "\t Tiempo Total : 0m 26s\n",
      "\t Pérdida en entrenamiento : -1512.4 | Accuracy en entrenamiento: 64.42%\n",
      "\t Pérdida en validación : -1526.55 | Accuracy en validación: 65.45%\n",
      "Época 52:\n",
      "\t Tiempo Total : 0m 27s\n",
      "\t Pérdida en entrenamiento : -1432.06 | Accuracy en entrenamiento: 63.68%\n",
      "\t Pérdida en validación : -1491.0 | Accuracy en validación: 64.69%\n",
      "Época 53:\n",
      "\t Tiempo Total : 0m 25s\n",
      "\t Pérdida en entrenamiento : -1380.75 | Accuracy en entrenamiento: 62.88%\n",
      "\t Pérdida en validación : -1462.99 | Accuracy en validación: 65.39%\n",
      "Época 54:\n",
      "\t Tiempo Total : 0m 25s\n",
      "\t Pérdida en entrenamiento : -1359.38 | Accuracy en entrenamiento: 62.11%\n",
      "\t Pérdida en validación : -1437.84 | Accuracy en validación: 63.38%\n",
      "Época 55:\n",
      "\t Tiempo Total : 0m 25s\n",
      "\t Pérdida en entrenamiento : -1300.58 | Accuracy en entrenamiento: 60.59%\n",
      "\t Pérdida en validación : -1373.65 | Accuracy en validación: 60.02%\n",
      "Época 56:\n",
      "\t Tiempo Total : 0m 26s\n",
      "\t Pérdida en entrenamiento : -1276.32 | Accuracy en entrenamiento: 61.41%\n",
      "\t Pérdida en validación : -1395.29 | Accuracy en validación: 61.73%\n",
      "Época 57:\n",
      "\t Tiempo Total : 0m 25s\n",
      "\t Pérdida en entrenamiento : -1267.21 | Accuracy en entrenamiento: 60.63%\n",
      "\t Pérdida en validación : -1386.8 | Accuracy en validación: 62.16%\n",
      "Época 58:\n",
      "\t Tiempo Total : 0m 27s\n",
      "\t Pérdida en entrenamiento : -1270.1 | Accuracy en entrenamiento: 59.65%\n",
      "\t Pérdida en validación : -1382.4 | Accuracy en validación: 59.44%\n",
      "Época 59:\n",
      "\t Tiempo Total : 0m 28s\n",
      "\t Pérdida en entrenamiento : -1283.05 | Accuracy en entrenamiento: 60.84%\n",
      "\t Pérdida en validación : -1442.19 | Accuracy en validación: 62.56%\n",
      "Época 60:\n",
      "\t Tiempo Total : 0m 27s\n",
      "\t Pérdida en entrenamiento : -1301.03 | Accuracy en entrenamiento: 60.19%\n",
      "\t Pérdida en validación : -1429.45 | Accuracy en validación: 60.13%\n",
      "Época 61:\n",
      "\t Tiempo Total : 0m 25s\n",
      "\t Pérdida en entrenamiento : -1312.99 | Accuracy en entrenamiento: 60.61%\n",
      "\t Pérdida en validación : -1428.25 | Accuracy en validación: 57.12%\n",
      "Época 62:\n",
      "\t Tiempo Total : 0m 24s\n",
      "\t Pérdida en entrenamiento : -1317.97 | Accuracy en entrenamiento: 58.66%\n",
      "\t Pérdida en validación : -1448.82 | Accuracy en validación: 59.66%\n",
      "Época 63:\n",
      "\t Tiempo Total : 0m 30s\n",
      "\t Pérdida en entrenamiento : -1300.11 | Accuracy en entrenamiento: 58.96%\n",
      "\t Pérdida en validación : -1451.54 | Accuracy en validación: 59.14%\n",
      "Época 64:\n",
      "\t Tiempo Total : 0m 25s\n",
      "\t Pérdida en entrenamiento : -1313.83 | Accuracy en entrenamiento: 59.81%\n",
      "\t Pérdida en validación : -1480.25 | Accuracy en validación: 60.33%\n",
      "Época 65:\n",
      "\t Tiempo Total : 0m 25s\n",
      "\t Pérdida en entrenamiento : -1326.07 | Accuracy en entrenamiento: 59.03%\n",
      "\t Pérdida en validación : -1485.74 | Accuracy en validación: 59.08%\n",
      "Época 66:\n",
      "\t Tiempo Total : 0m 25s\n",
      "\t Pérdida en entrenamiento : -1339.44 | Accuracy en entrenamiento: 59.82%\n",
      "\t Pérdida en validación : -1495.89 | Accuracy en validación: 57.93%\n",
      "Época 67:\n",
      "\t Tiempo Total : 0m 25s\n",
      "\t Pérdida en entrenamiento : -1334.8 | Accuracy en entrenamiento: 59.3%\n",
      "\t Pérdida en validación : -1509.9 | Accuracy en validación: 59.23%\n",
      "Época 68:\n",
      "\t Tiempo Total : 0m 25s\n",
      "\t Pérdida en entrenamiento : -1377.12 | Accuracy en entrenamiento: 60.47%\n",
      "\t Pérdida en validación : -1527.16 | Accuracy en validación: 60.16%\n",
      "Época 69:\n",
      "\t Tiempo Total : 0m 25s\n",
      "\t Pérdida en entrenamiento : -1362.7 | Accuracy en entrenamiento: 60.45%\n",
      "\t Pérdida en validación : -1541.69 | Accuracy en validación: 59.91%\n",
      "Época 70:\n",
      "\t Tiempo Total : 0m 25s\n",
      "\t Pérdida en entrenamiento : -1336.8 | Accuracy en entrenamiento: 58.83%\n",
      "\t Pérdida en validación : -1533.85 | Accuracy en validación: 58.98%\n",
      "Época 71:\n",
      "\t Tiempo Total : 0m 26s\n",
      "\t Pérdida en entrenamiento : -1366.42 | Accuracy en entrenamiento: 58.96%\n",
      "\t Pérdida en validación : -1560.5 | Accuracy en validación: 60.56%\n",
      "Época 72:\n",
      "\t Tiempo Total : 0m 26s\n",
      "\t Pérdida en entrenamiento : -1364.47 | Accuracy en entrenamiento: 58.59%\n",
      "\t Pérdida en validación : -1563.98 | Accuracy en validación: 59.01%\n",
      "Época 73:\n",
      "\t Tiempo Total : 0m 26s\n",
      "\t Pérdida en entrenamiento : -1406.45 | Accuracy en entrenamiento: 59.7%\n",
      "\t Pérdida en validación : -1571.45 | Accuracy en validación: 58.4%\n",
      "Época 74:\n",
      "\t Tiempo Total : 0m 29s\n",
      "\t Pérdida en entrenamiento : -1390.09 | Accuracy en entrenamiento: 59.01%\n",
      "\t Pérdida en validación : -1576.84 | Accuracy en validación: 58.72%\n",
      "Época 75:\n",
      "\t Tiempo Total : 0m 28s\n",
      "\t Pérdida en entrenamiento : -1412.41 | Accuracy en entrenamiento: 58.93%\n",
      "\t Pérdida en validación : -1607.77 | Accuracy en validación: 58.7%\n",
      "Época 76:\n",
      "\t Tiempo Total : 0m 28s\n",
      "\t Pérdida en entrenamiento : -1415.22 | Accuracy en entrenamiento: 59.41%\n",
      "\t Pérdida en validación : -1600.68 | Accuracy en validación: 58.26%\n",
      "Época 77:\n",
      "\t Tiempo Total : 0m 26s\n",
      "\t Pérdida en entrenamiento : -1433.05 | Accuracy en entrenamiento: 59.62%\n",
      "\t Pérdida en validación : -1618.19 | Accuracy en validación: 59.9%\n",
      "Época 78:\n",
      "\t Tiempo Total : 0m 27s\n",
      "\t Pérdida en entrenamiento : -1426.81 | Accuracy en entrenamiento: 58.91%\n",
      "\t Pérdida en validación : -1633.14 | Accuracy en validación: 58.48%\n",
      "Época 79:\n",
      "\t Tiempo Total : 0m 26s\n",
      "\t Pérdida en entrenamiento : -1447.26 | Accuracy en entrenamiento: 59.14%\n",
      "\t Pérdida en validación : -1654.23 | Accuracy en validación: 59.93%\n",
      "Época 80:\n",
      "\t Tiempo Total : 0m 25s\n",
      "\t Pérdida en entrenamiento : -1441.9 | Accuracy en entrenamiento: 58.81%\n",
      "\t Pérdida en validación : -1627.25 | Accuracy en validación: 58.94%\n",
      "Época 81:\n",
      "\t Tiempo Total : 0m 26s\n",
      "\t Pérdida en entrenamiento : -1419.83 | Accuracy en entrenamiento: 58.91%\n",
      "\t Pérdida en validación : -1609.3 | Accuracy en validación: 59.56%\n",
      "Época 82:\n",
      "\t Tiempo Total : 0m 27s\n",
      "\t Pérdida en entrenamiento : -1406.43 | Accuracy en entrenamiento: 58.85%\n",
      "\t Pérdida en validación : -1514.06 | Accuracy en validación: 52.62%\n",
      "Época 83:\n",
      "\t Tiempo Total : 0m 26s\n",
      "\t Pérdida en entrenamiento : -1331.27 | Accuracy en entrenamiento: 55.68%\n",
      "\t Pérdida en validación : -1488.3 | Accuracy en validación: 52.74%\n",
      "Época 84:\n",
      "\t Tiempo Total : 0m 25s\n",
      "\t Pérdida en entrenamiento : -1334.94 | Accuracy en entrenamiento: 55.58%\n",
      "\t Pérdida en validación : -1466.83 | Accuracy en validación: 50.43%\n",
      "Época 85:\n",
      "\t Tiempo Total : 0m 26s\n",
      "\t Pérdida en entrenamiento : -1366.09 | Accuracy en entrenamiento: 56.16%\n",
      "\t Pérdida en validación : -1460.8 | Accuracy en validación: 50.24%\n",
      "Época 86:\n",
      "\t Tiempo Total : 0m 25s\n",
      "\t Pérdida en entrenamiento : -1322.44 | Accuracy en entrenamiento: 55.32%\n",
      "\t Pérdida en validación : -1449.36 | Accuracy en validación: 48.91%\n",
      "Época 87:\n",
      "\t Tiempo Total : 0m 25s\n",
      "\t Pérdida en entrenamiento : -1336.28 | Accuracy en entrenamiento: 55.65%\n",
      "\t Pérdida en validación : -1438.32 | Accuracy en validación: 51.5%\n",
      "Época 88:\n",
      "\t Tiempo Total : 0m 27s\n",
      "\t Pérdida en entrenamiento : -1351.33 | Accuracy en entrenamiento: 56.11%\n",
      "\t Pérdida en validación : -1450.38 | Accuracy en validación: 49.52%\n",
      "Época 89:\n",
      "\t Tiempo Total : 0m 25s\n",
      "\t Pérdida en entrenamiento : -1329.63 | Accuracy en entrenamiento: 56.68%\n",
      "\t Pérdida en validación : -1444.24 | Accuracy en validación: 48.14%\n",
      "Época 90:\n",
      "\t Tiempo Total : 0m 26s\n",
      "\t Pérdida en entrenamiento : -1345.35 | Accuracy en entrenamiento: 56.49%\n",
      "\t Pérdida en validación : -1448.84 | Accuracy en validación: 48.78%\n",
      "Época 91:\n",
      "\t Tiempo Total : 0m 26s\n",
      "\t Pérdida en entrenamiento : -1351.61 | Accuracy en entrenamiento: 55.88%\n",
      "\t Pérdida en validación : -1477.35 | Accuracy en validación: 52.08%\n",
      "Época 92:\n",
      "\t Tiempo Total : 0m 26s\n",
      "\t Pérdida en entrenamiento : -1344.66 | Accuracy en entrenamiento: 57.03%\n",
      "\t Pérdida en validación : -1480.35 | Accuracy en validación: 50.19%\n",
      "Época 93:\n",
      "\t Tiempo Total : 0m 26s\n",
      "\t Pérdida en entrenamiento : -1345.43 | Accuracy en entrenamiento: 56.94%\n",
      "\t Pérdida en validación : -1468.64 | Accuracy en validación: 49.49%\n",
      "Época 94:\n",
      "\t Tiempo Total : 0m 26s\n",
      "\t Pérdida en entrenamiento : -1395.45 | Accuracy en entrenamiento: 56.44%\n",
      "\t Pérdida en validación : -1502.61 | Accuracy en validación: 51.82%\n"
     ]
    },
    {
     "name": "stdout",
     "output_type": "stream",
     "text": [
      "Época 95:\n",
      "\t Tiempo Total : 0m 29s\n",
      "\t Pérdida en entrenamiento : -1360.62 | Accuracy en entrenamiento: 57.18%\n",
      "\t Pérdida en validación : -1532.37 | Accuracy en validación: 53.8%\n",
      "Época 96:\n",
      "\t Tiempo Total : 0m 29s\n",
      "\t Pérdida en entrenamiento : -1359.05 | Accuracy en entrenamiento: 58.14%\n",
      "\t Pérdida en validación : -1568.35 | Accuracy en validación: 57.74%\n",
      "Época 97:\n",
      "\t Tiempo Total : 0m 26s\n",
      "\t Pérdida en entrenamiento : -1364.67 | Accuracy en entrenamiento: 58.41%\n",
      "\t Pérdida en validación : -1568.79 | Accuracy en validación: 57.15%\n",
      "Época 98:\n",
      "\t Tiempo Total : 0m 27s\n",
      "\t Pérdida en entrenamiento : -1332.77 | Accuracy en entrenamiento: 58.85%\n",
      "\t Pérdida en validación : -1558.76 | Accuracy en validación: 61.54%\n",
      "Época 99:\n",
      "\t Tiempo Total : 0m 27s\n",
      "\t Pérdida en entrenamiento : -1311.28 | Accuracy en entrenamiento: 60.55%\n",
      "\t Pérdida en validación : -1541.49 | Accuracy en validación: 61.78%\n",
      "Época 100:\n",
      "\t Tiempo Total : 0m 26s\n",
      "\t Pérdida en entrenamiento : -1288.8 | Accuracy en entrenamiento: 59.42%\n",
      "\t Pérdida en validación : -1441.95 | Accuracy en validación: 56.59%\n",
      "Época 100:\n",
      "PROMEDIO\n",
      "\t Pérdida en entrenamiento : -1321.86\n",
      "\t Accuracy en entrenamiento: 64.35%\n",
      "\t Pérdida en validación : -1323.2\n",
      "\t Accuracy en validación: 65.32%\n",
      "\t Presicion: 0.59%\n",
      "\t Recall: 0.59%\n",
      "\t F1: 0.59%\n",
      "Confusion matrix, without normalization\n",
      "[[17 24]\n",
      " [ 1 22]]\n",
      "Normalized confusion matrix\n",
      "[[0.41463415 0.58536585]\n",
      " [0.04347826 0.95652174]]\n"
     ]
    },
    {
     "data": {
      "image/png": "[encoded data removed]",
      "text/plain": [
       "<Figure size 432x288 with 2 Axes>"
      ]
     },
     "metadata": {
      "needs_background": "light"
     },
     "output_type": "display_data"
    },
    {
     "data": {
      "image/png": "[encoded data removed]",
      "text/plain": [
       "<Figure size 432x288 with 2 Axes>"
      ]
     },
     "metadata": {
      "needs_background": "light"
     },
     "output_type": "display_data"
    }
   ],
   "source": [
    "history_train_loss = []\n",
    "history_train_acc = []\n",
    "history_valid_loss = []\n",
    "history_valid_acc = []\n",
    "history_epochs = []\n",
    "\n",
    "EPOCHS = 100\n",
    "best_valid_loss = float('inf')\n",
    "\n",
    "for epoch in range(EPOCHS):\n",
    "    start_time = time.time()\n",
    "    train_loss, train_acc, values_precision, values_recall, values_f1, cnf_matrix = train(model, train_iterator, optimizer, criterion)\n",
    "    valid_loss, valid_acc = evaluate(model, valid_iterator, criterion)\n",
    "    \n",
    "    history_train_loss.append(train_loss) \n",
    "    history_train_acc.append(train_acc)\n",
    "    history_valid_loss.append(valid_loss)\n",
    "    history_valid_acc.append(valid_acc)\n",
    "    history_epochs.append(epoch)\n",
    "    \n",
    "    end_time = time.time()\n",
    "    mins, secs = timer(start_time, end_time)\n",
    "\n",
    "    if valid_loss < best_valid_loss:\n",
    "        best_valid_loss = valid_loss\n",
    "        torch.save(model.state_dict(), 'model-sd.pt')\n",
    "\n",
    "    print(\"Época {}:\".format(epoch+1))\n",
    "    print(\"\\t Tiempo Total : {}m {}s\".format(mins, secs))\n",
    "    print(\"\\t Pérdida en entrenamiento : {} | Accuracy en entrenamiento: {}%\".format(round(train_loss, 2), round(train_acc*100, 2)))\n",
    "    print(\"\\t Pérdida en validación : {} | Accuracy en validación: {}%\".format(round(valid_loss, 2), round(valid_acc*100, 2)))\n",
    "    \n",
    "    if epoch == EPOCHS-1:\n",
    "        # Average the training loss and accuracy of each epoch\n",
    "        avg_train_loss = np.mean(history_train_loss)\n",
    "        avg_train_acc = np.mean(history_train_acc) \n",
    "            \n",
    "        # Average the validation loss and accuracy of each epoch\n",
    "        avg_valid_loss = np.mean(history_valid_loss)    \n",
    "        avg_valid_acc = np.mean(history_valid_acc)\n",
    "        \n",
    "        #print('values_precision ',values_precision)\n",
    "        #print('values_recall ',values_recall)\n",
    "        #print('values_f1 ',values_f1)\n",
    "        #valid_loss_summary.append(avg_valid_loss)\n",
    "        avg_pre = np.mean(values_precision)\n",
    "        avg_recall = np.mean(values_recall)\n",
    "        avg_f1 = np.mean(values_f1)\n",
    "        print(\"Época {}:\".format(epoch+1))\n",
    "        print(\"PROMEDIO\")\n",
    "        print(\"\\t Pérdida en entrenamiento : {}\".format(round(avg_train_loss, 2)))\n",
    "        print(\"\\t Accuracy en entrenamiento: {}%\".format(round(avg_train_acc*100, 2)))\n",
    "        print(\"\\t Pérdida en validación : {}\".format(round(avg_valid_loss, 2)))\n",
    "        print(\"\\t Accuracy en validación: {}%\".format(round(avg_valid_acc*100, 2)))\n",
    "        \n",
    "        print(\"\\t Presicion: {}%\".format(round(avg_pre, 2)))\n",
    "        print(\"\\t Recall: {}%\".format(round(avg_recall, 2)))\n",
    "        print(\"\\t F1: {}%\".format(round(avg_f1, 2)))\n",
    "        \n",
    "        class_names = [\"denigracion\",\"sexual\",\"general\"]\n",
    "        \n",
    "        # Plot non-normalized confusion matrix\n",
    "        plt.figure()\n",
    "        plot_confusion_matrix(cnf_matrix, classes=class_names,\n",
    "                              title='Confusion matrix, without normalization')\n",
    "        \n",
    "        # Plot non-normalized confusion matrix\n",
    "        plt.figure()\n",
    "        plot_confusion_matrix(cnf_matrix, classes=class_names, normalize=True,\n",
    "                              title='Confusion matrix, without normalization')\n",
    "        \n",
    "        plt.show()"
   ]
  },
  {
   "cell_type": "code",
   "execution_count": 45,
   "metadata": {},
   "outputs": [
    {
     "data": {
      "image/png": "[encoded data removed]",
      "text/plain": [
       "<Figure size 432x288 with 1 Axes>"
      ]
     },
     "metadata": {
      "needs_background": "light"
     },
     "output_type": "display_data"
    },
    {
     "data": {
      "image/png": "[encoded data removed]",
      "text/plain": [
       "<Figure size 432x288 with 1 Axes>"
      ]
     },
     "metadata": {
      "needs_background": "light"
     },
     "output_type": "display_data"
    }
   ],
   "source": [
    "plt.plot(history_epochs,history_train_acc, 'b', label='Accuracy en entrenamiento')\n",
    "plt.plot(history_epochs,history_valid_acc, 'r', label='Accuracy en validación')\n",
    "plt.title('Accuracy en entrenamiento y validación')\n",
    "plt.legend()\n",
    "\n",
    "plt.figure()\n",
    "\n",
    "plt.plot(history_epochs, history_train_loss, 'b', label='Pérdida en entrenamiento')\n",
    "plt.plot(history_epochs, history_valid_loss, 'r', label='Pérdida en validación')\n",
    "plt.title('Pérdida en entrenamiento y validación')\n",
    "plt.legend()\n",
    "\n",
    "plt.show()"
   ]
  },
  {
   "cell_type": "markdown",
   "metadata": {},
   "source": [
    "### TRAIN BLSTM"
   ]
  },
  {
   "cell_type": "code",
   "execution_count": 46,
   "metadata": {},
   "outputs": [
    {
     "name": "stdout",
     "output_type": "stream",
     "text": [
      "Época 1:\n",
      "\t Tiempo Total : 0m 39s\n",
      "\t Pérdida en entrenamiento : 0.69 | Accuracy en entrenamiento: 40.65%\n",
      "\t Pérdida en validación : 0.69 | Accuracy en validación: 24.48%\n",
      "Época 2:\n",
      "\t Tiempo Total : 0m 39s\n",
      "\t Pérdida en entrenamiento : 0.69 | Accuracy en entrenamiento: 40.06%\n",
      "\t Pérdida en validación : 0.69 | Accuracy en validación: 24.48%\n",
      "Época 3:\n",
      "\t Tiempo Total : 0m 39s\n",
      "\t Pérdida en entrenamiento : 0.69 | Accuracy en entrenamiento: 40.49%\n",
      "\t Pérdida en validación : 0.69 | Accuracy en validación: 24.48%\n",
      "Época 4:\n",
      "\t Tiempo Total : 0m 39s\n",
      "\t Pérdida en entrenamiento : 0.69 | Accuracy en entrenamiento: 40.7%\n",
      "\t Pérdida en validación : 0.69 | Accuracy en validación: 24.48%\n",
      "Época 5:\n",
      "\t Tiempo Total : 0m 39s\n",
      "\t Pérdida en entrenamiento : 0.69 | Accuracy en entrenamiento: 40.42%\n",
      "\t Pérdida en validación : 0.69 | Accuracy en validación: 24.48%\n",
      "Época 6:\n",
      "\t Tiempo Total : 0m 41s\n",
      "\t Pérdida en entrenamiento : 0.69 | Accuracy en entrenamiento: 39.76%\n",
      "\t Pérdida en validación : 0.69 | Accuracy en validación: 24.48%\n",
      "Época 7:\n",
      "\t Tiempo Total : 0m 41s\n",
      "\t Pérdida en entrenamiento : 0.69 | Accuracy en entrenamiento: 39.38%\n",
      "\t Pérdida en validación : 0.69 | Accuracy en validación: 24.48%\n",
      "Época 8:\n",
      "\t Tiempo Total : 0m 40s\n",
      "\t Pérdida en entrenamiento : 0.69 | Accuracy en entrenamiento: 40.76%\n",
      "\t Pérdida en validación : 0.69 | Accuracy en validación: 24.48%\n",
      "Época 9:\n",
      "\t Tiempo Total : 0m 39s\n",
      "\t Pérdida en entrenamiento : 0.69 | Accuracy en entrenamiento: 39.67%\n",
      "\t Pérdida en validación : 0.69 | Accuracy en validación: 24.48%\n",
      "Época 10:\n",
      "\t Tiempo Total : 0m 37s\n",
      "\t Pérdida en entrenamiento : 0.69 | Accuracy en entrenamiento: 38.92%\n",
      "\t Pérdida en validación : 0.69 | Accuracy en validación: 24.48%\n",
      "Época 11:\n",
      "\t Tiempo Total : 0m 43s\n",
      "\t Pérdida en entrenamiento : 0.69 | Accuracy en entrenamiento: 39.79%\n",
      "\t Pérdida en validación : 0.69 | Accuracy en validación: 24.48%\n",
      "Época 12:\n",
      "\t Tiempo Total : 0m 48s\n",
      "\t Pérdida en entrenamiento : 0.69 | Accuracy en entrenamiento: 39.47%\n",
      "\t Pérdida en validación : 0.69 | Accuracy en validación: 24.48%\n",
      "Época 13:\n",
      "\t Tiempo Total : 0m 47s\n",
      "\t Pérdida en entrenamiento : 0.69 | Accuracy en entrenamiento: 40.4%\n",
      "\t Pérdida en validación : 0.69 | Accuracy en validación: 24.48%\n",
      "Época 14:\n",
      "\t Tiempo Total : 0m 42s\n",
      "\t Pérdida en entrenamiento : 0.69 | Accuracy en entrenamiento: 40.05%\n",
      "\t Pérdida en validación : 0.69 | Accuracy en validación: 24.48%\n",
      "Época 15:\n",
      "\t Tiempo Total : 0m 44s\n",
      "\t Pérdida en entrenamiento : 0.69 | Accuracy en entrenamiento: 41.08%\n",
      "\t Pérdida en validación : 0.69 | Accuracy en validación: 24.48%\n",
      "Época 16:\n",
      "\t Tiempo Total : 0m 44s\n",
      "\t Pérdida en entrenamiento : 0.69 | Accuracy en entrenamiento: 39.87%\n",
      "\t Pérdida en validación : 0.69 | Accuracy en validación: 24.48%\n",
      "Época 17:\n",
      "\t Tiempo Total : 0m 44s\n",
      "\t Pérdida en entrenamiento : 0.69 | Accuracy en entrenamiento: 40.9%\n",
      "\t Pérdida en validación : 0.69 | Accuracy en validación: 24.48%\n",
      "Época 18:\n",
      "\t Tiempo Total : 0m 42s\n",
      "\t Pérdida en entrenamiento : 0.69 | Accuracy en entrenamiento: 40.76%\n",
      "\t Pérdida en validación : 0.69 | Accuracy en validación: 24.48%\n",
      "Época 19:\n",
      "\t Tiempo Total : 0m 44s\n",
      "\t Pérdida en entrenamiento : 0.69 | Accuracy en entrenamiento: 40.44%\n",
      "\t Pérdida en validación : 0.69 | Accuracy en validación: 24.48%\n",
      "Época 20:\n",
      "\t Tiempo Total : 0m 46s\n",
      "\t Pérdida en entrenamiento : 0.69 | Accuracy en entrenamiento: 39.39%\n",
      "\t Pérdida en validación : 0.69 | Accuracy en validación: 24.48%\n",
      "Época 21:\n",
      "\t Tiempo Total : 0m 46s\n",
      "\t Pérdida en entrenamiento : 0.69 | Accuracy en entrenamiento: 40.59%\n",
      "\t Pérdida en validación : 0.69 | Accuracy en validación: 24.48%\n",
      "Época 22:\n",
      "\t Tiempo Total : 0m 41s\n",
      "\t Pérdida en entrenamiento : 0.69 | Accuracy en entrenamiento: 40.47%\n",
      "\t Pérdida en validación : 0.69 | Accuracy en validación: 24.48%\n",
      "Época 23:\n",
      "\t Tiempo Total : 0m 41s\n",
      "\t Pérdida en entrenamiento : 0.69 | Accuracy en entrenamiento: 41.19%\n",
      "\t Pérdida en validación : 0.69 | Accuracy en validación: 24.48%\n",
      "Época 24:\n",
      "\t Tiempo Total : 0m 41s\n",
      "\t Pérdida en entrenamiento : 0.69 | Accuracy en entrenamiento: 39.95%\n",
      "\t Pérdida en validación : 0.69 | Accuracy en validación: 24.48%\n",
      "Época 25:\n",
      "\t Tiempo Total : 0m 41s\n",
      "\t Pérdida en entrenamiento : 0.69 | Accuracy en entrenamiento: 40.12%\n",
      "\t Pérdida en validación : 0.69 | Accuracy en validación: 24.48%\n",
      "Época 26:\n",
      "\t Tiempo Total : 0m 40s\n",
      "\t Pérdida en entrenamiento : 0.69 | Accuracy en entrenamiento: 39.05%\n",
      "\t Pérdida en validación : 0.69 | Accuracy en validación: 24.48%\n",
      "Época 27:\n",
      "\t Tiempo Total : 0m 42s\n",
      "\t Pérdida en entrenamiento : 0.69 | Accuracy en entrenamiento: 40.42%\n",
      "\t Pérdida en validación : 0.69 | Accuracy en validación: 24.48%\n",
      "Época 28:\n",
      "\t Tiempo Total : 0m 41s\n",
      "\t Pérdida en entrenamiento : 0.69 | Accuracy en entrenamiento: 41.01%\n",
      "\t Pérdida en validación : 0.69 | Accuracy en validación: 24.48%\n",
      "Época 29:\n",
      "\t Tiempo Total : 0m 39s\n",
      "\t Pérdida en entrenamiento : 0.69 | Accuracy en entrenamiento: 40.3%\n",
      "\t Pérdida en validación : 0.69 | Accuracy en validación: 24.48%\n",
      "Época 30:\n",
      "\t Tiempo Total : 0m 39s\n",
      "\t Pérdida en entrenamiento : 0.69 | Accuracy en entrenamiento: 39.63%\n",
      "\t Pérdida en validación : 0.69 | Accuracy en validación: 24.48%\n",
      "Época 31:\n",
      "\t Tiempo Total : 0m 40s\n",
      "\t Pérdida en entrenamiento : 0.69 | Accuracy en entrenamiento: 40.51%\n",
      "\t Pérdida en validación : 0.69 | Accuracy en validación: 24.48%\n",
      "Época 32:\n",
      "\t Tiempo Total : 0m 39s\n",
      "\t Pérdida en entrenamiento : 0.69 | Accuracy en entrenamiento: 41.2%\n",
      "\t Pérdida en validación : 0.69 | Accuracy en validación: 24.48%\n",
      "Época 33:\n",
      "\t Tiempo Total : 0m 39s\n",
      "\t Pérdida en entrenamiento : 0.69 | Accuracy en entrenamiento: 41.19%\n",
      "\t Pérdida en validación : 0.69 | Accuracy en validación: 24.48%\n",
      "Época 34:\n",
      "\t Tiempo Total : 0m 39s\n",
      "\t Pérdida en entrenamiento : 0.69 | Accuracy en entrenamiento: 41.2%\n",
      "\t Pérdida en validación : 0.69 | Accuracy en validación: 24.48%\n",
      "Época 35:\n",
      "\t Tiempo Total : 0m 38s\n",
      "\t Pérdida en entrenamiento : 0.69 | Accuracy en entrenamiento: 39.33%\n",
      "\t Pérdida en validación : 0.69 | Accuracy en validación: 24.48%\n",
      "Época 36:\n",
      "\t Tiempo Total : 0m 36s\n",
      "\t Pérdida en entrenamiento : 0.69 | Accuracy en entrenamiento: 40.07%\n",
      "\t Pérdida en validación : 0.69 | Accuracy en validación: 24.48%\n",
      "Época 37:\n",
      "\t Tiempo Total : 0m 36s\n",
      "\t Pérdida en entrenamiento : 0.69 | Accuracy en entrenamiento: 39.45%\n",
      "\t Pérdida en validación : 0.69 | Accuracy en validación: 24.48%\n",
      "Época 38:\n",
      "\t Tiempo Total : 0m 36s\n",
      "\t Pérdida en entrenamiento : 0.69 | Accuracy en entrenamiento: 41.08%\n",
      "\t Pérdida en validación : 0.69 | Accuracy en validación: 24.48%\n",
      "Época 39:\n",
      "\t Tiempo Total : 0m 36s\n",
      "\t Pérdida en entrenamiento : 0.69 | Accuracy en entrenamiento: 40.56%\n",
      "\t Pérdida en validación : 0.69 | Accuracy en validación: 24.48%\n",
      "Época 40:\n",
      "\t Tiempo Total : 0m 36s\n",
      "\t Pérdida en entrenamiento : 0.69 | Accuracy en entrenamiento: 39.93%\n",
      "\t Pérdida en validación : 0.69 | Accuracy en validación: 24.48%\n",
      "Época 41:\n",
      "\t Tiempo Total : 0m 36s\n",
      "\t Pérdida en entrenamiento : 0.69 | Accuracy en entrenamiento: 39.68%\n",
      "\t Pérdida en validación : 0.69 | Accuracy en validación: 24.48%\n",
      "Época 42:\n",
      "\t Tiempo Total : 0m 36s\n",
      "\t Pérdida en entrenamiento : 0.69 | Accuracy en entrenamiento: 40.38%\n",
      "\t Pérdida en validación : 0.69 | Accuracy en validación: 24.48%\n",
      "Época 43:\n",
      "\t Tiempo Total : 0m 36s\n",
      "\t Pérdida en entrenamiento : 0.69 | Accuracy en entrenamiento: 39.87%\n",
      "\t Pérdida en validación : 0.69 | Accuracy en validación: 24.48%\n",
      "Época 44:\n",
      "\t Tiempo Total : 0m 36s\n",
      "\t Pérdida en entrenamiento : 0.69 | Accuracy en entrenamiento: 39.84%\n",
      "\t Pérdida en validación : 0.69 | Accuracy en validación: 24.48%\n",
      "Época 45:\n",
      "\t Tiempo Total : 6m 39s\n",
      "\t Pérdida en entrenamiento : 0.69 | Accuracy en entrenamiento: 40.07%\n",
      "\t Pérdida en validación : 0.69 | Accuracy en validación: 24.48%\n",
      "Época 46:\n",
      "\t Tiempo Total : 0m 38s\n",
      "\t Pérdida en entrenamiento : 0.69 | Accuracy en entrenamiento: 40.99%\n",
      "\t Pérdida en validación : 0.69 | Accuracy en validación: 24.48%\n",
      "Época 47:\n",
      "\t Tiempo Total : 0m 37s\n",
      "\t Pérdida en entrenamiento : 0.69 | Accuracy en entrenamiento: 41.14%\n",
      "\t Pérdida en validación : 0.69 | Accuracy en validación: 24.48%\n",
      "Época 48:\n",
      "\t Tiempo Total : 0m 37s\n",
      "\t Pérdida en entrenamiento : 0.69 | Accuracy en entrenamiento: 41.18%\n",
      "\t Pérdida en validación : 0.69 | Accuracy en validación: 24.48%\n",
      "Época 49:\n",
      "\t Tiempo Total : 0m 37s\n",
      "\t Pérdida en entrenamiento : 0.69 | Accuracy en entrenamiento: 41.16%\n",
      "\t Pérdida en validación : 0.69 | Accuracy en validación: 24.48%\n"
     ]
    },
    {
     "name": "stdout",
     "output_type": "stream",
     "text": [
      "Época 50:\n",
      "\t Tiempo Total : 0m 37s\n",
      "\t Pérdida en entrenamiento : 0.69 | Accuracy en entrenamiento: 39.46%\n",
      "\t Pérdida en validación : 0.69 | Accuracy en validación: 24.48%\n",
      "Época 51:\n",
      "\t Tiempo Total : 0m 37s\n",
      "\t Pérdida en entrenamiento : 0.69 | Accuracy en entrenamiento: 39.79%\n",
      "\t Pérdida en validación : 0.69 | Accuracy en validación: 24.48%\n",
      "Época 52:\n",
      "\t Tiempo Total : 0m 37s\n",
      "\t Pérdida en entrenamiento : 0.69 | Accuracy en entrenamiento: 40.98%\n",
      "\t Pérdida en validación : 0.69 | Accuracy en validación: 24.48%\n",
      "Época 53:\n",
      "\t Tiempo Total : 0m 37s\n",
      "\t Pérdida en entrenamiento : 0.69 | Accuracy en entrenamiento: 40.36%\n",
      "\t Pérdida en validación : 0.69 | Accuracy en validación: 24.48%\n",
      "Época 54:\n",
      "\t Tiempo Total : 0m 36s\n",
      "\t Pérdida en entrenamiento : 0.69 | Accuracy en entrenamiento: 40.03%\n",
      "\t Pérdida en validación : 0.69 | Accuracy en validación: 24.48%\n",
      "Época 55:\n",
      "\t Tiempo Total : 0m 36s\n",
      "\t Pérdida en entrenamiento : 0.69 | Accuracy en entrenamiento: 39.73%\n",
      "\t Pérdida en validación : 0.69 | Accuracy en validación: 24.48%\n",
      "Época 56:\n",
      "\t Tiempo Total : 0m 36s\n",
      "\t Pérdida en entrenamiento : 0.69 | Accuracy en entrenamiento: 40.36%\n",
      "\t Pérdida en validación : 0.69 | Accuracy en validación: 24.48%\n",
      "Época 57:\n",
      "\t Tiempo Total : 0m 36s\n",
      "\t Pérdida en entrenamiento : 0.69 | Accuracy en entrenamiento: 39.68%\n",
      "\t Pérdida en validación : 0.69 | Accuracy en validación: 24.48%\n",
      "Época 58:\n",
      "\t Tiempo Total : 0m 36s\n",
      "\t Pérdida en entrenamiento : 0.69 | Accuracy en entrenamiento: 40.43%\n",
      "\t Pérdida en validación : 0.69 | Accuracy en validación: 24.48%\n",
      "Época 59:\n",
      "\t Tiempo Total : 0m 36s\n",
      "\t Pérdida en entrenamiento : 0.69 | Accuracy en entrenamiento: 40.25%\n",
      "\t Pérdida en validación : 0.69 | Accuracy en validación: 24.48%\n",
      "Época 60:\n",
      "\t Tiempo Total : 0m 36s\n",
      "\t Pérdida en entrenamiento : 0.69 | Accuracy en entrenamiento: 40.43%\n",
      "\t Pérdida en validación : 0.69 | Accuracy en validación: 24.48%\n",
      "Época 61:\n",
      "\t Tiempo Total : 0m 36s\n",
      "\t Pérdida en entrenamiento : 0.69 | Accuracy en entrenamiento: 40.92%\n",
      "\t Pérdida en validación : 0.69 | Accuracy en validación: 24.48%\n",
      "Época 62:\n",
      "\t Tiempo Total : 5m 33s\n",
      "\t Pérdida en entrenamiento : 0.69 | Accuracy en entrenamiento: 38.94%\n",
      "\t Pérdida en validación : 0.69 | Accuracy en validación: 24.48%\n",
      "Época 63:\n",
      "\t Tiempo Total : 0m 39s\n",
      "\t Pérdida en entrenamiento : 0.69 | Accuracy en entrenamiento: 39.43%\n",
      "\t Pérdida en validación : 0.69 | Accuracy en validación: 24.48%\n",
      "Época 64:\n",
      "\t Tiempo Total : 0m 37s\n",
      "\t Pérdida en entrenamiento : 0.69 | Accuracy en entrenamiento: 39.44%\n",
      "\t Pérdida en validación : 0.69 | Accuracy en validación: 24.48%\n",
      "Época 65:\n",
      "\t Tiempo Total : 0m 37s\n",
      "\t Pérdida en entrenamiento : 0.69 | Accuracy en entrenamiento: 39.14%\n",
      "\t Pérdida en validación : 0.69 | Accuracy en validación: 24.48%\n",
      "Época 66:\n",
      "\t Tiempo Total : 0m 37s\n",
      "\t Pérdida en entrenamiento : 0.69 | Accuracy en entrenamiento: 40.15%\n",
      "\t Pérdida en validación : 0.69 | Accuracy en validación: 24.48%\n",
      "Época 67:\n",
      "\t Tiempo Total : 0m 37s\n",
      "\t Pérdida en entrenamiento : 0.69 | Accuracy en entrenamiento: 41.58%\n",
      "\t Pérdida en validación : 0.69 | Accuracy en validación: 24.48%\n",
      "Época 68:\n",
      "\t Tiempo Total : 0m 37s\n",
      "\t Pérdida en entrenamiento : 0.69 | Accuracy en entrenamiento: 40.91%\n",
      "\t Pérdida en validación : 0.69 | Accuracy en validación: 24.48%\n",
      "Época 69:\n",
      "\t Tiempo Total : 0m 37s\n",
      "\t Pérdida en entrenamiento : 0.69 | Accuracy en entrenamiento: 40.64%\n",
      "\t Pérdida en validación : 0.69 | Accuracy en validación: 24.48%\n",
      "Época 70:\n",
      "\t Tiempo Total : 0m 37s\n",
      "\t Pérdida en entrenamiento : 0.69 | Accuracy en entrenamiento: 41.19%\n",
      "\t Pérdida en validación : 0.69 | Accuracy en validación: 24.48%\n",
      "Época 71:\n",
      "\t Tiempo Total : 0m 36s\n",
      "\t Pérdida en entrenamiento : 0.69 | Accuracy en entrenamiento: 39.82%\n",
      "\t Pérdida en validación : 0.69 | Accuracy en validación: 24.48%\n",
      "Época 72:\n",
      "\t Tiempo Total : 0m 36s\n",
      "\t Pérdida en entrenamiento : 0.69 | Accuracy en entrenamiento: 40.5%\n",
      "\t Pérdida en validación : 0.69 | Accuracy en validación: 24.48%\n",
      "Época 73:\n",
      "\t Tiempo Total : 0m 36s\n",
      "\t Pérdida en entrenamiento : 0.69 | Accuracy en entrenamiento: 40.81%\n",
      "\t Pérdida en validación : 0.69 | Accuracy en validación: 24.48%\n",
      "Época 74:\n",
      "\t Tiempo Total : 0m 36s\n",
      "\t Pérdida en entrenamiento : 0.69 | Accuracy en entrenamiento: 39.6%\n",
      "\t Pérdida en validación : 0.69 | Accuracy en validación: 24.48%\n",
      "Época 75:\n",
      "\t Tiempo Total : 0m 36s\n",
      "\t Pérdida en entrenamiento : 0.69 | Accuracy en entrenamiento: 39.8%\n",
      "\t Pérdida en validación : 0.69 | Accuracy en validación: 24.48%\n",
      "Época 76:\n",
      "\t Tiempo Total : 0m 36s\n",
      "\t Pérdida en entrenamiento : 0.69 | Accuracy en entrenamiento: 39.3%\n",
      "\t Pérdida en validación : 0.69 | Accuracy en validación: 24.48%\n",
      "Época 77:\n",
      "\t Tiempo Total : 0m 36s\n",
      "\t Pérdida en entrenamiento : 0.69 | Accuracy en entrenamiento: 41.32%\n",
      "\t Pérdida en validación : 0.69 | Accuracy en validación: 24.48%\n",
      "Época 78:\n",
      "\t Tiempo Total : 0m 36s\n",
      "\t Pérdida en entrenamiento : 0.69 | Accuracy en entrenamiento: 39.69%\n",
      "\t Pérdida en validación : 0.69 | Accuracy en validación: 24.48%\n",
      "Época 79:\n",
      "\t Tiempo Total : 0m 36s\n",
      "\t Pérdida en entrenamiento : 0.69 | Accuracy en entrenamiento: 40.49%\n",
      "\t Pérdida en validación : 0.69 | Accuracy en validación: 24.48%\n",
      "Época 80:\n",
      "\t Tiempo Total : 19m 5s\n",
      "\t Pérdida en entrenamiento : 0.69 | Accuracy en entrenamiento: 39.94%\n",
      "\t Pérdida en validación : 0.69 | Accuracy en validación: 24.48%\n",
      "Época 81:\n",
      "\t Tiempo Total : 0m 35s\n",
      "\t Pérdida en entrenamiento : 0.69 | Accuracy en entrenamiento: 39.2%\n",
      "\t Pérdida en validación : 0.69 | Accuracy en validación: 24.48%\n",
      "Época 82:\n",
      "\t Tiempo Total : 0m 36s\n",
      "\t Pérdida en entrenamiento : 0.69 | Accuracy en entrenamiento: 40.13%\n",
      "\t Pérdida en validación : 0.69 | Accuracy en validación: 24.48%\n",
      "Época 83:\n",
      "\t Tiempo Total : 0m 35s\n",
      "\t Pérdida en entrenamiento : 0.69 | Accuracy en entrenamiento: 40.38%\n",
      "\t Pérdida en validación : 0.69 | Accuracy en validación: 24.48%\n",
      "Época 84:\n",
      "\t Tiempo Total : 0m 35s\n",
      "\t Pérdida en entrenamiento : 0.69 | Accuracy en entrenamiento: 39.25%\n",
      "\t Pérdida en validación : 0.69 | Accuracy en validación: 24.48%\n",
      "Época 85:\n",
      "\t Tiempo Total : 0m 35s\n",
      "\t Pérdida en entrenamiento : 0.69 | Accuracy en entrenamiento: 38.89%\n",
      "\t Pérdida en validación : 0.69 | Accuracy en validación: 24.48%\n",
      "Época 86:\n",
      "\t Tiempo Total : 0m 34s\n",
      "\t Pérdida en entrenamiento : 0.69 | Accuracy en entrenamiento: 40.13%\n",
      "\t Pérdida en validación : 0.69 | Accuracy en validación: 24.48%\n",
      "Época 87:\n",
      "\t Tiempo Total : 0m 36s\n",
      "\t Pérdida en entrenamiento : 0.69 | Accuracy en entrenamiento: 40.16%\n",
      "\t Pérdida en validación : 0.69 | Accuracy en validación: 24.48%\n",
      "Época 88:\n",
      "\t Tiempo Total : 0m 35s\n",
      "\t Pérdida en entrenamiento : 0.69 | Accuracy en entrenamiento: 40.32%\n",
      "\t Pérdida en validación : 0.69 | Accuracy en validación: 24.48%\n",
      "Época 89:\n",
      "\t Tiempo Total : 0m 34s\n",
      "\t Pérdida en entrenamiento : 0.69 | Accuracy en entrenamiento: 39.68%\n",
      "\t Pérdida en validación : 0.69 | Accuracy en validación: 24.48%\n",
      "Época 90:\n",
      "\t Tiempo Total : 0m 34s\n",
      "\t Pérdida en entrenamiento : 0.69 | Accuracy en entrenamiento: 40.34%\n",
      "\t Pérdida en validación : 0.69 | Accuracy en validación: 24.48%\n",
      "Época 91:\n",
      "\t Tiempo Total : 0m 34s\n",
      "\t Pérdida en entrenamiento : 0.69 | Accuracy en entrenamiento: 40.31%\n",
      "\t Pérdida en validación : 0.69 | Accuracy en validación: 24.48%\n",
      "Época 92:\n",
      "\t Tiempo Total : 0m 34s\n",
      "\t Pérdida en entrenamiento : 0.69 | Accuracy en entrenamiento: 40.74%\n",
      "\t Pérdida en validación : 0.69 | Accuracy en validación: 24.48%\n",
      "Época 93:\n",
      "\t Tiempo Total : 0m 34s\n",
      "\t Pérdida en entrenamiento : 0.69 | Accuracy en entrenamiento: 39.49%\n",
      "\t Pérdida en validación : 0.69 | Accuracy en validación: 24.48%\n",
      "Época 94:\n",
      "\t Tiempo Total : 0m 35s\n",
      "\t Pérdida en entrenamiento : 0.69 | Accuracy en entrenamiento: 39.77%\n",
      "\t Pérdida en validación : 0.69 | Accuracy en validación: 24.48%\n",
      "Época 95:\n",
      "\t Tiempo Total : 0m 35s\n",
      "\t Pérdida en entrenamiento : 0.69 | Accuracy en entrenamiento: 40.87%\n",
      "\t Pérdida en validación : 0.69 | Accuracy en validación: 24.48%\n",
      "Época 96:\n",
      "\t Tiempo Total : 0m 36s\n",
      "\t Pérdida en entrenamiento : 0.69 | Accuracy en entrenamiento: 41.14%\n",
      "\t Pérdida en validación : 0.69 | Accuracy en validación: 24.48%\n",
      "Época 97:\n",
      "\t Tiempo Total : 0m 36s\n",
      "\t Pérdida en entrenamiento : 0.69 | Accuracy en entrenamiento: 41.13%\n",
      "\t Pérdida en validación : 0.69 | Accuracy en validación: 24.48%\n",
      "Época 98:\n",
      "\t Tiempo Total : 0m 36s\n",
      "\t Pérdida en entrenamiento : 0.69 | Accuracy en entrenamiento: 40.71%\n",
      "\t Pérdida en validación : 0.69 | Accuracy en validación: 24.48%\n"
     ]
    },
    {
     "name": "stdout",
     "output_type": "stream",
     "text": [
      "Época 99:\n",
      "\t Tiempo Total : 0m 36s\n",
      "\t Pérdida en entrenamiento : 0.69 | Accuracy en entrenamiento: 40.56%\n",
      "\t Pérdida en validación : 0.69 | Accuracy en validación: 24.48%\n",
      "Época 100:\n",
      "\t Tiempo Total : 0m 36s\n",
      "\t Pérdida en entrenamiento : 0.69 | Accuracy en entrenamiento: 39.94%\n",
      "\t Pérdida en validación : 0.69 | Accuracy en validación: 24.48%\n",
      "Época 100:\n",
      "PROMEDIO\n",
      "\t Pérdida en entrenamiento : -1321.86\n",
      "\t Accuracy en entrenamiento: 64.35%\n",
      "\t Pérdida en validación : -1323.2\n",
      "\t Accuracy en validación: 65.32%\n",
      "\t Presicion: 0.4%\n",
      "\t Recall: 0.4%\n",
      "\t F1: 0.4%\n",
      "Confusion matrix, without normalization\n",
      "[[31  0  0]\n",
      " [15  0  0]\n",
      " [18  0  0]]\n",
      "Normalized confusion matrix\n",
      "[[1. 0. 0.]\n",
      " [1. 0. 0.]\n",
      " [1. 0. 0.]]\n"
     ]
    },
    {
     "data": {
      "image/png": "[encoded data removed]",
      "text/plain": [
       "<Figure size 432x288 with 2 Axes>"
      ]
     },
     "metadata": {
      "needs_background": "light"
     },
     "output_type": "display_data"
    },
    {
     "data": {
      "image/png": "[encoded data removed]",
      "text/plain": [
       "<Figure size 432x288 with 2 Axes>"
      ]
     },
     "metadata": {
      "needs_background": "light"
     },
     "output_type": "display_data"
    }
   ],
   "source": [
    "history_train_loss2 = []\n",
    "history_train_acc2 = []\n",
    "history_valid_loss2 = []\n",
    "history_valid_acc2 = []\n",
    "history_epochs2 = []\n",
    "\n",
    "EPOCHS = 100\n",
    "best_valid_loss = float('inf')\n",
    "\n",
    "for epoch in range(EPOCHS):\n",
    "    start_time = time.time()\n",
    "    train_loss, train_acc, values_precision, values_recall, values_f1, cnf_matrix = train(model2, train_iterator, optimizer, criterion)\n",
    "    valid_loss, valid_acc = evaluate(model2, valid_iterator, criterion)\n",
    "    \n",
    "    history_train_loss2.append(train_loss) \n",
    "    history_train_acc2.append(train_acc)\n",
    "    history_valid_loss2.append(valid_loss)\n",
    "    history_valid_acc2.append(valid_acc)\n",
    "    history_epochs2.append(epoch)\n",
    "    \n",
    "    end_time = time.time()\n",
    "    mins, secs = timer(start_time, end_time)\n",
    "\n",
    "    if valid_loss < best_valid_loss:\n",
    "        best_valid_loss = valid_loss\n",
    "        torch.save(model2.state_dict(), 'model2-sd.pt')\n",
    "\n",
    "    print(\"Época {}:\".format(epoch+1))\n",
    "    print(\"\\t Tiempo Total : {}m {}s\".format(mins, secs))\n",
    "    print(\"\\t Pérdida en entrenamiento : {} | Accuracy en entrenamiento: {}%\".format(round(train_loss, 2), round(train_acc*100, 2)))\n",
    "    print(\"\\t Pérdida en validación : {} | Accuracy en validación: {}%\".format(round(valid_loss, 2), round(valid_acc*100, 2)))\n",
    "    \n",
    "    if epoch == EPOCHS-1:\n",
    "        # Average the training loss and accuracy of each epoch\n",
    "        avg_train_loss = np.mean(history_train_loss)\n",
    "        avg_train_acc = np.mean(history_train_acc) \n",
    "            \n",
    "        # Average the validation loss and accuracy of each epoch\n",
    "        avg_valid_loss = np.mean(history_valid_loss)    \n",
    "        avg_valid_acc = np.mean(history_valid_acc)\n",
    "        \n",
    "        #valid_loss_summary.append(avg_valid_loss)\n",
    "        avg_pre = np.mean(values_precision)\n",
    "        avg_recall = np.mean(values_recall)\n",
    "        avg_f1 = np.mean(values_f1)\n",
    "        print(\"Época {}:\".format(epoch+1))\n",
    "        print(\"PROMEDIO\")\n",
    "        print(\"\\t Pérdida en entrenamiento : {}\".format(round(avg_train_loss, 2)))\n",
    "        print(\"\\t Accuracy en entrenamiento: {}%\".format(round(avg_train_acc*100, 2)))\n",
    "        print(\"\\t Pérdida en validación : {}\".format(round(avg_valid_loss, 2)))\n",
    "        print(\"\\t Accuracy en validación: {}%\".format(round(avg_valid_acc*100, 2)))\n",
    "        \n",
    "        print(\"\\t Presicion: {}%\".format(round(avg_pre, 2)))\n",
    "        print(\"\\t Recall: {}%\".format(round(avg_recall, 2)))\n",
    "        print(\"\\t F1: {}%\".format(round(avg_f1, 2)))\n",
    "        \n",
    "        class_names = [\"denigracion\",\"sexual\",\"general\"]\n",
    "        \n",
    "        # Plot non-normalized confusion matrix\n",
    "        plt.figure()\n",
    "        plot_confusion_matrix(cnf_matrix, classes=class_names,\n",
    "                              title='Confusion matrix, without normalization')\n",
    "        \n",
    "        # Plot non-normalized confusion matrix\n",
    "        plt.figure()\n",
    "        plot_confusion_matrix(cnf_matrix, classes=class_names, normalize=True,\n",
    "                              title='Confusion matrix, without normalization')\n",
    "        \n",
    "        plt.show()"
   ]
  },
  {
   "cell_type": "code",
   "execution_count": 47,
   "metadata": {},
   "outputs": [
    {
     "data": {
      "image/png": "[encoded data removed]",
      "text/plain": [
       "<Figure size 432x288 with 1 Axes>"
      ]
     },
     "metadata": {
      "needs_background": "light"
     },
     "output_type": "display_data"
    },
    {
     "data": {
      "image/png": "[encoded data removed]",
      "text/plain": [
       "<Figure size 432x288 with 1 Axes>"
      ]
     },
     "metadata": {
      "needs_background": "light"
     },
     "output_type": "display_data"
    }
   ],
   "source": [
    "plt.plot(history_epochs2,history_train_acc2, 'b', label='Accuracy en entrenamiento')\n",
    "plt.plot(history_epochs2,history_valid_acc2, 'r', label='Accuracy en validación')\n",
    "plt.title('Accuracy en entrenamiento y validación')\n",
    "plt.legend()\n",
    "\n",
    "plt.figure()\n",
    "\n",
    "plt.plot(history_epochs2, history_train_loss2, 'b', label='Pérdida en entrenamiento')\n",
    "plt.plot(history_epochs2, history_valid_loss2, 'r', label='Pérdida en validación')\n",
    "plt.title('Pérdida en entrenamiento y validación')\n",
    "plt.legend()\n",
    "\n",
    "plt.show()"
   ]
  },
  {
   "cell_type": "code",
   "execution_count": null,
   "metadata": {},
   "outputs": [],
   "source": []
  },
  {
   "cell_type": "code",
   "execution_count": null,
   "metadata": {},
   "outputs": [],
   "source": []
  },
  {
   "cell_type": "markdown",
   "metadata": {},
   "source": [
    "#### CNN + BLSTM"
   ]
  },
  {
   "cell_type": "code",
   "execution_count": null,
   "metadata": {},
   "outputs": [],
   "source": [
    "class CNNBLSTM(nn.Module):\n",
    "\n",
    "    def __init__(self, args):\n",
    "        super(CNNBLSTM, self).__init__()\n",
    "\n",
    "        self.cnn = CNNMod(args)\n",
    "        self.lstm = nn.LSTM(input_size   = args.input_size, \n",
    "                            hidden_size  = args.dimension,\n",
    "                            num_layers   = 1,\n",
    "                            batch_first  = True,\n",
    "                            bidirectional= True)\n",
    "        #self.drop_rate = args.lstm_drop_rate\n",
    "        self.drop = nn.Dropout(p = 0.5)\n",
    "        self.dimension = args.dimension\n",
    "        self.fc = nn.Linear(2*self.dimension, 1)\n",
    "\n",
    "    def forward(self, text): #, text_len):\n",
    "        cnn_out = self.cnn(text)\n",
    "        print('CNN: ')\n",
    "        print(cnn_out.size())\n",
    "        \n",
    "        lstm_out,_ = self.lstm(cnn_out)        \n",
    "        print('LSTM: ')\n",
    "        print(lstm_out.size())\n",
    "        \n",
    "        #out = self.fc(lstm_out[:, -1, :])\n",
    "        #print('fc: ', out.size())\n",
    "        \n",
    "        # Dropout is applied\n",
    "        out = self.drop(lstm_out)\n",
    "        print('drop: ', out.size())\n",
    "        print(out)\n",
    "        #text_fea = torch.squeeze(text_fea, 1)\n",
    "        \n",
    "        # Activation function is applied\n",
    "        out = torch.sigmoid(out)\n",
    "        #print('sigmoid: ', out.size())\n",
    "        \n",
    "        #out = self.fc(out)\n",
    "        #text_out = torch.sigmoid(text_fea)\n",
    "        return out.squeeze()"
   ]
  },
  {
   "cell_type": "code",
   "execution_count": null,
   "metadata": {},
   "outputs": [],
   "source": [
    "cnn_blstm_model = CNNBLSTM(Parameters)"
   ]
  },
  {
   "cell_type": "code",
   "execution_count": null,
   "metadata": {},
   "outputs": [],
   "source": [
    "import torch.optim as optim\n",
    "import torch.nn.functional as F\n",
    "from torchvision import transforms\n",
    "\n",
    "from torch.utils.data import TensorDataset, Dataset, DataLoader\n",
    "# Preliminaries\n",
    "#from torchtext.data import Field, TabularDataset, BucketIterator\n",
    "#from torchtext import datasets\n",
    "\n",
    "class DatasetMaper(Dataset):\n",
    "    def __init__(self, x, y):\n",
    "        #self.transform = transforms.Compose([transforms.ToTensor(),transforms.ToTensor()])  # you can add to the list all the transformations you need.\n",
    "        self.x = x\n",
    "        self.y = y\n",
    "        \n",
    "    def __len__(self):\n",
    "        return len(self.x)\n",
    "\n",
    "    def __getitem__(self, idx):\n",
    "        #return self.transform(self.x[idx]), self.transform(self.y[idx])\n",
    "        x = self.x[idx]\n",
    "        y = self.y[idx]\n",
    "        return x, y #torch.from_numpy(self.x[idx][0]), self.y[idx], self.x[idx][1]\n",
    "    \n",
    "class Run:\n",
    "    '''Training, evaluation and metrics calculation'''\n",
    "    # Metrics Presicion, recall and F1 measure\n",
    "    val_precision = []\n",
    "    val_recall = []\n",
    "    val_f1 = []\n",
    "        \n",
    "        \n",
    "    @staticmethod\n",
    "    def train(model, data, args):\n",
    "        \n",
    "        # Initialize dataset maper\n",
    "        train = DatasetMaper(data['X_train'], data['y_train'])\n",
    "        test = DatasetMaper(data['X_test'], data['y_test'])\n",
    "        \n",
    "        #print('--------TRAIN--------')\n",
    "        #print(train)\n",
    "        # Initialize loaders\n",
    "        loader_train = DataLoader(train, batch_size=args.batch_size)\n",
    "        loader_test = DataLoader(test, batch_size=args.batch_size)\n",
    "        \n",
    "        #f_loss = nn.CrossEntropyLoss() \n",
    "        criterion = nn.BCEWithLogitsLoss()\n",
    "        \n",
    "        # Define optimizer\n",
    "        optimizer = optim.Adam(model.parameters(), lr=args.learning_rate)\n",
    "        \n",
    "        list_y_pred = []\n",
    "        list_y_true = []\n",
    "    \n",
    "        # Starts training phase\n",
    "        for epoch in range(args.epochs):\n",
    "            # Set model in training model\n",
    "            model.train()\n",
    "            predictions = []\n",
    "            # Starts batch training\n",
    "            for x_batch, y_batch in loader_train:\n",
    "                y_batch = y_batch.type(torch.FloatTensor)\n",
    "                y_batch = np.reshape(y_batch, -1)\n",
    "                x_batch = x_batch.type(torch.LongTensor)  \n",
    "                \n",
    "                # Feed the model\n",
    "                y_pred = model(x_batch)\n",
    "                print('y_pred--------')\n",
    "                print(y_pred.size())\n",
    "                print(y_pred)\n",
    "                print('y_batch--------')\n",
    "                print(y_batch.size())\n",
    "                print(y_batch)\n",
    "                \n",
    "                # Loss calculation\n",
    "                loss = F.binary_cross_entropy(y_pred, y_batch)  \n",
    "                # Clean gradientes\n",
    "                optimizer.zero_grad()\n",
    "\n",
    "                # Gradients calculation\n",
    "                loss.backward()\n",
    "\n",
    "                # Gradients update\n",
    "                optimizer.step()\n",
    "\n",
    "                # Save predictions\n",
    "                predictions += list(y_pred.detach().numpy())\n",
    "\n",
    "            # Evaluation phase\n",
    "            test_predictions = Run.evaluation(model, loader_test)\n",
    "\n",
    "            # Metrics calculation\n",
    "            train_accuary = Run.calculate_accuray(data['y_train'], predictions)\n",
    "            test_accuracy = Run.calculate_accuray(data['y_test'], test_predictions)\n",
    "            print(\"Epoch: %d, loss: %.5f, Train accuracy: %.5f, Test accuracy: %.5f\" % (epoch+1, loss.item(), train_accuary, test_accuracy))\n",
    "\n",
    "            \n",
    "            if epoch == args.epochs - 1:\n",
    "                for x_batch, y_batch in loader_train:\n",
    "                    y_batch = y_batch.type(torch.FloatTensor)\n",
    "                    x_batch = x_batch.type(torch.LongTensor)  \n",
    "                \n",
    "                    # Feed the model\n",
    "                    y_pred = model(x_batch)\n",
    "                    y_batch = y_batch.detach().numpy()\n",
    "                    y_batch = np.reshape(y_batch, -1)\n",
    "                    list_y_pred.append(y_pred.detach().numpy()) \n",
    "                    list_y_true.append(y_batch) \n",
    "                    \n",
    "                # Average the accuracy of each epoch\n",
    "                #avg_precision = np.mean(val_precision)\n",
    "                #avg_recall = np.mean(val_recall)\n",
    "                #avg_f1 = np.mean(val_f1)\n",
    "                \n",
    "                #print(\"Epoch: {}/{}\".format(epoch, epochs),\n",
    "                #\"Valid Precision: {:.3f}\".format(avg_precision),\n",
    "                #\"Valid Reca: {:.3f}\".format(avg_recall),\n",
    "                #\"Valid F1: {:.3f}\".format(avg_f1))\n",
    "                print('---------------')\n",
    "                #print(list_y_pred)\n",
    "                #print(list_y_true)\n",
    "                list_y_pred = [a for a in list_y_pred]\n",
    "                list_y_true = [a.squeeze().tolist() for a in list_y_true]\n",
    "                \n",
    "                y_pred = MultiLabelBinarizer().fit_transform(list_y_pred)\n",
    "                y_true = MultiLabelBinarizer().fit_transform(list_y_true)\n",
    "                print('y_pred')\n",
    "                print(y_pred.size())\n",
    "                print('y_true')\n",
    "                print(y_true.size())\n",
    "                class_names = [\"Denigrante\",\"Excluyente\",\"General\"]\n",
    "                print(classification_report(y_true, y_pred, target_names=class_names))\n",
    "                \n",
    "                \n",
    "                # Compute confusion matrix\n",
    "                cnf_matrix = confusion_matrix(list_y_true, list_y_pred)\n",
    "                np.set_printoptions(precision=2)\n",
    "\n",
    "                # Plot non-normalized confusion matrix\n",
    "                plt.figure()\n",
    "                plot_confusion_matrix(cnf_matrix, classes=class_names,\n",
    "                                      title='Confusion matrix, without normalization')\n",
    "\n",
    "                # Plot normalized confusion matrix\n",
    "                plt.figure()\n",
    "                plot_confusion_matrix(cnf_matrix, classes=class_names, normalize=True,\n",
    "                                      title='Normalized confusion matrix')\n",
    "\n",
    "                plt.show()\n",
    "                \n",
    "    @staticmethod\n",
    "    def evaluation(model, loader_test):\n",
    "\n",
    "        # Set the model in evaluation mode\n",
    "        model.eval()\n",
    "        predictions = []\n",
    "\n",
    "        # Start evaluation phase\n",
    "        with torch.no_grad():\n",
    "            for x_batch, y_batch in loader_test:\n",
    "                x_batch = x_batch.type(torch.LongTensor)\n",
    "                y_pred = model(x_batch)\n",
    "                predictions += list(y_pred.detach().numpy())\n",
    "        return predictions\n",
    "\n",
    "    @staticmethod\n",
    "    def calculate_accuray(grand_truth, predictions):\n",
    "        # Metrics calculation\n",
    "        true_positives = 0\n",
    "        true_negatives = 0\n",
    "        for true, pred in zip(grand_truth, predictions):\n",
    "            if (pred >= 0.5) and (true == 1):\n",
    "                true_positives += 1\n",
    "            elif (pred < 0.5) and (true == 0):\n",
    "                true_negatives += 1\n",
    "            else:\n",
    "                pass\n",
    "        # Return accuracy\n",
    "        return (true_positives+true_negatives) / len(grand_truth)"
   ]
  },
  {
   "cell_type": "code",
   "execution_count": null,
   "metadata": {},
   "outputs": [],
   "source": [
    "# Training - Evaluation pipeline\n",
    "Run().train(cnn_blstm_model, dic_data, Parameters)"
   ]
  },
  {
   "cell_type": "code",
   "execution_count": null,
   "metadata": {},
   "outputs": [],
   "source": [
    "loss = nn.CrossEntropyLoss()\n",
    "input = torch.randn(3, 5, requires_grad=True)\n",
    "print('input: ',input)\n",
    "target = torch.empty(3, dtype=torch.long).random_(5)\n",
    "print('target: ',target)\n",
    "output = loss(input, target)\n",
    "print('output: ',output)\n",
    "output.backward()\n",
    "print('output back: ',output)"
   ]
  },
  {
   "cell_type": "code",
   "execution_count": null,
   "metadata": {},
   "outputs": [],
   "source": [
    "if epoch == args.epochs - 1:\n",
    "                for x_batch, y_batch in loader_train:\n",
    "                    y_batch = y_batch.type(torch.FloatTensor)\n",
    "                    x_batch = x_batch.type(torch.LongTensor)  \n",
    "                    \n",
    "                    # Feed the model\n",
    "                    y_pred = model(x_batch)\n",
    "                    y_pred = y_pred.detach().numpy()\n",
    "                    print('y_pred ---------')\n",
    "                    print(y_pred)\n",
    "                    \n",
    "                    y_batch = y_batch.detach().numpy()\n",
    "                    y_batch = np.reshape(y_batch, -1)\n",
    "                    print('y_batch reshape ---------')\n",
    "                    print(y_batch)\n",
    "                    \n",
    "                    precision = precision_score(y_batch, y_pred, average=None)\n",
    "                    recall = recall_score(y_batch, y_pred, average=None)\n",
    "                    f1 = f1_score(y_batch, y_pred, average=None)\n",
    "                \n",
    "                    val_precision.append(precision)\n",
    "                    val_recall.append(recall)\n",
    "                    val_f1.append(f1)\n",
    "                    \n",
    "                # Average the accuracy of each epoch\n",
    "                avg_precision = np.mean(val_precision)\n",
    "                avg_recall = np.mean(val_recall)\n",
    "                avg_f1 = np.mean(val_f1)\n",
    "                \n",
    "                print(\"Epoch: {}/{}\".format(epoch, epochs),\n",
    "                \"Valid Precision: {:.3f}\".format(avg_precision),\n",
    "                \"Valid Reca: {:.3f}\".format(avg_recall),\n",
    "                \"Valid F1: {:.3f}\".format(avg_f1))\n",
    "                \n",
    "                class_names = [\"Denigrante\",\"Excluyente\",\"General\"]\n",
    "                print(classification_report(y_batch, y_pred, target_names=class_names))\n",
    "                \n",
    "                \n",
    "                # Compute confusion matrix\n",
    "                cnf_matrix = confusion_matrix(y_batch, y_pred)\n",
    "                np.set_printoptions(precision=2)\n",
    "\n",
    "                # Plot non-normalized confusion matrix\n",
    "                plt.figure()\n",
    "                plot_confusion_matrix(cnf_matrix, classes=class_names,\n",
    "                                      title='Confusion matrix, without normalization')\n",
    "\n",
    "                # Plot normalized confusion matrix\n",
    "                plt.figure()\n",
    "                plot_confusion_matrix(cnf_matrix, classes=class_names, normalize=True,\n",
    "                                      title='Normalized confusion matrix')\n",
    "\n",
    "                plt.show()\n",
    "            "
   ]
  },
  {
   "cell_type": "code",
   "execution_count": null,
   "metadata": {},
   "outputs": [],
   "source": []
  },
  {
   "cell_type": "code",
   "execution_count": null,
   "metadata": {},
   "outputs": [],
   "source": []
  },
  {
   "cell_type": "code",
   "execution_count": null,
   "metadata": {},
   "outputs": [],
   "source": []
  },
  {
   "cell_type": "markdown",
   "metadata": {},
   "source": [
    "----------------------------------------------------"
   ]
  },
  {
   "cell_type": "code",
   "execution_count": null,
   "metadata": {},
   "outputs": [],
   "source": [
    "prescision clasificar\n",
    "antes de clasificar ()\n",
    "si es preciso 4 grupos , 5 label 1ros. aciertos - matriz de consfusion\n",
    "diagramas 20 metáforas adecuada (visualizar)\n",
    "termina el modelo\n",
    "papers with code\n",
    "data existente - "
   ]
  },
  {
   "cell_type": "code",
   "execution_count": null,
   "metadata": {},
   "outputs": [],
   "source": [
    "\n",
    "# --------  es_core_news_sm:\n",
    "#https://spacy.io/usage/models\n",
    "#python -m spacy download es_core_news_sm\n",
    "\n",
    "#version de pytorch:\n",
    "    python -c \"import torch; print(torch.__version__)\""
   ]
  },
  {
   "cell_type": "code",
   "execution_count": null,
   "metadata": {},
   "outputs": [],
   "source": []
  },
  {
   "cell_type": "code",
   "execution_count": null,
   "metadata": {},
   "outputs": [],
   "source": []
  },
  {
   "cell_type": "code",
   "execution_count": null,
   "metadata": {},
   "outputs": [],
   "source": []
  }
 ],
 "metadata": {
  "kernelspec": {
   "display_name": "Python 3",
   "language": "python",
   "name": "python3"
  },
  "language_info": {
   "codemirror_mode": {
    "name": "ipython",
    "version": 3
   },
   "file_extension": ".py",
   "mimetype": "text/x-python",
   "name": "python",
   "nbconvert_exporter": "python",
   "pygments_lexer": "ipython3",
   "version": "3.8.5"
  }
 },
 "nbformat": 4,
 "nbformat_minor": 2
}
